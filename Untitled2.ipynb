{
 "cells": [
  {
   "cell_type": "code",
   "execution_count": 45,
   "metadata": {},
   "outputs": [],
   "source": [
    "import gffutils\n",
    "import pyfaidx\n",
    "from pysam import VariantFile"
   ]
  },
  {
   "cell_type": "code",
   "execution_count": 131,
   "metadata": {},
   "outputs": [],
   "source": [
    "#db = gffutils.create_db('/tmp/ensg228794.gff', ':memory:')\n",
    "db = gffutils.create_db('/mnt/test_data/hepavac34/rna_benign/spladdrout/merge_graphs_alt_3prime_C3.confirmed.gff3', ':memory:')\n",
    "fasta = pyfaidx.Fasta('/mnt/test_data/refs/GRCh37.primary_assembly.genome.fa')\n",
    "vcffile='/tmp/vcf.vcf.gz'\n"
   ]
  },
  {
   "cell_type": "code",
   "execution_count": 142,
   "metadata": {},
   "outputs": [
    {
     "name": "stdout",
     "output_type": "stream",
     "text": [
      "Chrom not found\n",
      "Chrom not found\n",
      "Chrom not found\n",
      "Chrom not found\n",
      "1 events in range detected (chr1 - 169509532 on 169512229)\n",
      "Personalisizing sequence len:2698 with 1 events\n",
      "Eventstart 169510649, offset: 169509532 -> pos:1117\n",
      "Char at  1117: A (region +-3: TAAATC)\n",
      "chr1\t169510650\trs867798146\tG\tA\t.\tfv.syn_var;fv.som_all_freq_tum\tANN=A|synonymous_variant|LOW|F5|ENSG00000198734|transcript|ENST00000367796|protein_coding|13/25|c.3693C>T|p.Leu1231Leu|3895/7039|3693/6690|1231/2229||,A|synonymous_variant|LOW|F5|ENSG00000198734|transcript|ENST00000367797|protein_coding|13/25|c.3678C>T|p.Leu1226Leu|3880/7024|3678/6675|1226/2224||;DP=446;GNOMAD_GENOME_AF=0;MQ=56.45;MQ0=10;NT=ref;OMIM=612309_[F5_(confirmed)_Factor_V_deficiency,227400|Thrombophilia,susceptibility_to,due_to_factor_V_Leiden,188055|Stroke,ischemic,susceptibility_to,601367|Budd-Chiari_syndrome,600880|Thrombophilia_due_to_activated_protein_C_resistance,188055|Pregnancy_loss,recurrent,susceptibility_to,1,614389];QSS=85;QSS_NT=85;ReadPosRankSum=-3.52;SGT=GG->AG;SNVSB=0;SOMATIC;SomaticEVS=22.17;TQSS=1;TQSS_NT=1;rna_tum_freq=0.1221;rna_tum_depth=213;rna_ref_freq=0.0704;rna_ref_depth=213\tAU:CU:DP:FDP:GU:SDP:SUBDP:TU\t0,0:0,0:182:24:158,189:0:0:0,0\t6,8:0,0:231:26:196,243:0:0:3,6\n",
      "\n",
      "1 events in range detected (chr1 - 169509532 on 169512352)\n",
      "Personalisizing sequence len:2821 with 1 events\n",
      "Eventstart 169510649, offset: 169509532 -> pos:1117\n",
      "Char at  1117: A (region +-3: AAAAAA)\n",
      "chr1\t169510650\trs867798146\tG\tA\t.\tfv.syn_var;fv.som_all_freq_tum\tANN=A|synonymous_variant|LOW|F5|ENSG00000198734|transcript|ENST00000367796|protein_coding|13/25|c.3693C>T|p.Leu1231Leu|3895/7039|3693/6690|1231/2229||,A|synonymous_variant|LOW|F5|ENSG00000198734|transcript|ENST00000367797|protein_coding|13/25|c.3678C>T|p.Leu1226Leu|3880/7024|3678/6675|1226/2224||;DP=446;GNOMAD_GENOME_AF=0;MQ=56.45;MQ0=10;NT=ref;OMIM=612309_[F5_(confirmed)_Factor_V_deficiency,227400|Thrombophilia,susceptibility_to,due_to_factor_V_Leiden,188055|Stroke,ischemic,susceptibility_to,601367|Budd-Chiari_syndrome,600880|Thrombophilia_due_to_activated_protein_C_resistance,188055|Pregnancy_loss,recurrent,susceptibility_to,1,614389];QSS=85;QSS_NT=85;ReadPosRankSum=-3.52;SGT=GG->AG;SNVSB=0;SOMATIC;SomaticEVS=22.17;TQSS=1;TQSS_NT=1;rna_tum_freq=0.1221;rna_tum_depth=213;rna_ref_freq=0.0704;rna_ref_depth=213\tAU:CU:DP:FDP:GU:SDP:SUBDP:TU\t0,0:0,0:182:24:158,189:0:0:0,0\t6,8:0,0:231:26:196,243:0:0:3,6\n",
      "\n",
      "1 events in range detected (chr14 - 105221967 on 105223262)\n",
      "Personalisizing sequence len:1296 with 1 events\n",
      "Eventstart 105221961, offset: 105221967 -> pos:-6\n",
      "Char at  -6: T (region +-3: GCTTGG)\n",
      "chr14\t105221962\t.\tCCCAGAGAAGACCAA\tC\t.\tPASS\tANN=C|frameshift_variant&splice_acceptor_variant&splice_region_variant&intron_variant|HIGH|SIVA1|ENSG00000184990|transcript|ENST00000556195|protein_coding|2/4|c.170-4_179delCCAGAGAAGACCAA|p.Glu57fs||170/579|57/192||WARNING_TRANSCRIPT_NO_START_CODON,C|frameshift_variant&splice_acceptor_variant&splice_region_variant&intron_variant|HIGH|SIVA1|ENSG00000184990|transcript|ENST00000329967|protein_coding|2/4|c.119-4_128delCCAGAGAAGACCAA|p.Glu40fs||119/528|40/175||,C|frameshift_variant&splice_acceptor_variant&splice_region_variant&intron_variant|HIGH|SIVA1|ENSG00000184990|transcript|ENST00000553810|protein_coding|2/4|c.119-4_128delCCAGAGAAGACCAA|p.Glu40fs||119/508|40/168||WARNING_TRANSCRIPT_INCOMPLETE,C|frameshift_variant&splice_acceptor_variant&splice_region_variant&intron_variant|HIGH|SIVA1|ENSG00000184990|transcript|ENST00000553819|nonsense_mediated_decay|2/6|c.119-4_128delCCAGAGAAGACCAA|p.Glu40fs||119/510|40/169||,C|splice_acceptor_variant&splice_region_variant&intron_variant&non_coding_transcript_exon_variant|HIGH|SIVA1|ENSG00000184990|transcript|ENST00000535554|retained_intron|2/3|n.174-4_183delCCAGAGAAGACCAA||||||,C|splice_acceptor_variant&splice_region_variant&intron_variant&non_coding_transcript_exon_variant|HIGH|SIVA1|ENSG00000184990|transcript|ENST00000556431|retained_intron|2/2|n.119-4_128delCCAGAGAAGACCAA||||||,C|sequence_feature|MODERATE|SIVA1|ENSG00000184990|cross-link:Glycyl_lysine_isopeptide_(Lys-Gly)_(interchain_with_G-Cter_in_ubiquitin)|ENST00000329967|protein_coding|2/4|c.119-4_128delCCAGAGAAGACCAA||||||,C|intron_variant|MODIFIER|SIVA1|ENSG00000184990|transcript|ENST00000347067|protein_coding|1/2|c.119-978_119-965delCCAGAGAAGACCAA||||||,C|intron_variant|MODIFIER|SIVA1|ENSG00000184990|transcript|ENST00000554013|retained_intron|1/1|n.140-978_140-965delCCAGAGAAGACCAA||||||;IC=0;IHP=5;LOF=(SIVA1|ENSG00000184990|8|0.50);MQ=60;MQ0=0;NT=ref;QSI=80;QSI_NT=80;RC=1;RU=CCAGAGAAGACCAA;SGT=ref->het;SOMATIC;TQSI=1;TQSI_NT=1;rna_tum_freq=0;rna_tum_depth=654;rna_ref_freq=0;rna_ref_depth=474\tBCN50:DP:DP2:DP50:FDP50:SUBDP50:TAR:TIR:TOR\t0:32:32:29.24:0:0:39,39:0,0:0,0\t0:24:24:21.12:0:0:15,15:10,10:2,3\n",
      "\n",
      "1 events in range detected (chr19 - 49611052 on 49611736)\n",
      "Personalisizing sequence len:685 with 1 events\n",
      "Eventstart 49611467, offset: 49611052 -> pos:415\n",
      "Char at  415: G (region +-3: AGCGAG)\n",
      "chr19\t49611468\t.\tA\tC\t.\tfv.som_all_freq_nor\tANN=C|missense_variant|MODERATE|SNRNP70|ENSG00000104852|transcript|ENST00000598441|protein_coding|10/10|c.1082A>C|p.Glu361Ala|1306/1574|1082/1314|361/437||,C|missense_variant|MODERATE|SNRNP70|ENSG00000104852|transcript|ENST00000221448|protein_coding|10/10|c.1055A>C|p.Glu352Ala|1251/1603|1055/1287|352/428||,C|3_prime_UTR_variant|MODIFIER|SNRNP70|ENSG00000104852|transcript|ENST00000601065|nonsense_mediated_decay|11/11|c.*641A>C|||||6072|,C|3_prime_UTR_variant|MODIFIER|SNRNP70|ENSG00000104852|transcript|ENST00000401730|nonsense_mediated_decay|11/11|c.*2055A>C|||||6072|,C|3_prime_UTR_variant|MODIFIER|SNRNP70|ENSG00000104852|transcript|ENST00000595231|nonsense_mediated_decay|11/11|c.*626A>C|||||6072|,C|non_coding_transcript_exon_variant|MODIFIER|SNRNP70|ENSG00000104852|transcript|ENST00000544278|retained_intron|3/3|n.2830A>C||||||;dbNSFP_CADD_phred=21.9;dbNSFP_MetaLR_pred=T;dbNSFP_phyloP100way_vertebrate=7.318;dbNSFP_Polyphen2_HVAR_pred=B,B;dbNSFP_SIFT_pred=D,D;DP=263;MQ=60;MQ0=0;NT=ref;QSS=56;QSS_NT=56;ReadPosRankSum=-0.9;REPEATMASKER=(GGACCG)n;SGT=AA->AC;SNVSB=0;SOMATIC;SomaticEVS=27.76;TQSS=2;TQSS_NT=2;rna_tum_freq=0.0209;rna_tum_depth=862;rna_ref_freq=0.0298;rna_ref_depth=369\tAU:CU:DP:FDP:GU:SDP:SUBDP:TU\t108,108:3,4:113:1:0,1:0:0:1,1\t127,128:15,16:148:1:1,1:0:0:4,4\n",
      "\n",
      "1 events in range detected (chr19 - 49611079 on 49611736)\n",
      "Personalisizing sequence len:658 with 1 events\n",
      "Eventstart 49611467, offset: 49611079 -> pos:388\n",
      "Char at  388: G (region +-3: AGCGAG)\n",
      "chr19\t49611468\t.\tA\tC\t.\tfv.som_all_freq_nor\tANN=C|missense_variant|MODERATE|SNRNP70|ENSG00000104852|transcript|ENST00000598441|protein_coding|10/10|c.1082A>C|p.Glu361Ala|1306/1574|1082/1314|361/437||,C|missense_variant|MODERATE|SNRNP70|ENSG00000104852|transcript|ENST00000221448|protein_coding|10/10|c.1055A>C|p.Glu352Ala|1251/1603|1055/1287|352/428||,C|3_prime_UTR_variant|MODIFIER|SNRNP70|ENSG00000104852|transcript|ENST00000601065|nonsense_mediated_decay|11/11|c.*641A>C|||||6072|,C|3_prime_UTR_variant|MODIFIER|SNRNP70|ENSG00000104852|transcript|ENST00000401730|nonsense_mediated_decay|11/11|c.*2055A>C|||||6072|,C|3_prime_UTR_variant|MODIFIER|SNRNP70|ENSG00000104852|transcript|ENST00000595231|nonsense_mediated_decay|11/11|c.*626A>C|||||6072|,C|non_coding_transcript_exon_variant|MODIFIER|SNRNP70|ENSG00000104852|transcript|ENST00000544278|retained_intron|3/3|n.2830A>C||||||;dbNSFP_CADD_phred=21.9;dbNSFP_MetaLR_pred=T;dbNSFP_phyloP100way_vertebrate=7.318;dbNSFP_Polyphen2_HVAR_pred=B,B;dbNSFP_SIFT_pred=D,D;DP=263;MQ=60;MQ0=0;NT=ref;QSS=56;QSS_NT=56;ReadPosRankSum=-0.9;REPEATMASKER=(GGACCG)n;SGT=AA->AC;SNVSB=0;SOMATIC;SomaticEVS=27.76;TQSS=2;TQSS_NT=2;rna_tum_freq=0.0209;rna_tum_depth=862;rna_ref_freq=0.0298;rna_ref_depth=369\tAU:CU:DP:FDP:GU:SDP:SUBDP:TU\t108,108:3,4:113:1:0,1:0:0:1,1\t127,128:15,16:148:1:1,1:0:0:4,4\n",
      "\n",
      "1 events in range detected (chr6 - 109767339 on 109767560)\n",
      "Personalisizing sequence len:222 with 1 events\n",
      "Eventstart 109767448, offset: 109767339 -> pos:109\n",
      "Char at  109: T (region +-3: CCCTGA)\n",
      "chr6\t109767449\t.\tT\tA\t.\tfv.som_all_freq_nor\tANN=A|missense_variant|MODERATE|MICAL1|ENSG00000135596|transcript|ENST00000368952|protein_coding|19/25|c.2528A>T|p.Asp843Val|2819/3678|2528/3261|843/1086||,A|missense_variant|MODERATE|MICAL1|ENSG00000135596|transcript|ENST00000358807|protein_coding|19/25|c.2471A>T|p.Asp824Val|2783/3645|2471/3204|824/1067||,A|missense_variant|MODERATE|MICAL1|ENSG00000135596|transcript|ENST00000358577|protein_coding|18/24|c.2213A>T|p.Asp738Val|2525/3384|2213/2946|738/981||,A|non_coding_transcript_exon_variant|MODIFIER|MICAL1|ENSG00000135596|transcript|ENST00000456101|retained_intron|19/25|n.3250A>T||||||,A|non_coding_transcript_exon_variant|MODIFIER|MICAL1|ENSG00000135596|transcript|ENST00000465904|retained_intron|3/9|n.3522A>T||||||;dbNSFP_CADD_phred=20.4;dbNSFP_FATHMM_pred=T,T,T;dbNSFP_MetaLR_pred=T;dbNSFP_phyloP100way_vertebrate=1.517;dbNSFP_Polyphen2_HVAR_pred=B,P,B;dbNSFP_SIFT_pred=D,D,D,D,D;DP=135;MQ=59.9;MQ0=0;NT=ref;QSS=52;QSS_NT=52;ReadPosRankSum=0.17;SGT=TT->AT;SNVSB=0;SOMATIC;SomaticEVS=23.44;TQSS=2;TQSS_NT=2;rna_tum_freq=0;rna_tum_depth=32;rna_ref_freq=0.0135;rna_ref_depth=148\tAU:CU:DP:FDP:GU:SDP:SUBDP:TU\t1,1:0,0:78:1:0,1:0:0:76,76\t3,3:0,0:54:1:3,3:0:0:47,51\n",
      "\n",
      "1 events in range detected (chr6 - 109767339 on 109767560)\n",
      "Personalisizing sequence len:222 with 1 events\n",
      "Eventstart 109767448, offset: 109767339 -> pos:109\n",
      "Char at  109: T (region +-3: CCCTGA)\n",
      "chr6\t109767449\t.\tT\tA\t.\tfv.som_all_freq_nor\tANN=A|missense_variant|MODERATE|MICAL1|ENSG00000135596|transcript|ENST00000368952|protein_coding|19/25|c.2528A>T|p.Asp843Val|2819/3678|2528/3261|843/1086||,A|missense_variant|MODERATE|MICAL1|ENSG00000135596|transcript|ENST00000358807|protein_coding|19/25|c.2471A>T|p.Asp824Val|2783/3645|2471/3204|824/1067||,A|missense_variant|MODERATE|MICAL1|ENSG00000135596|transcript|ENST00000358577|protein_coding|18/24|c.2213A>T|p.Asp738Val|2525/3384|2213/2946|738/981||,A|non_coding_transcript_exon_variant|MODIFIER|MICAL1|ENSG00000135596|transcript|ENST00000456101|retained_intron|19/25|n.3250A>T||||||,A|non_coding_transcript_exon_variant|MODIFIER|MICAL1|ENSG00000135596|transcript|ENST00000465904|retained_intron|3/9|n.3522A>T||||||;dbNSFP_CADD_phred=20.4;dbNSFP_FATHMM_pred=T,T,T;dbNSFP_MetaLR_pred=T;dbNSFP_phyloP100way_vertebrate=1.517;dbNSFP_Polyphen2_HVAR_pred=B,P,B;dbNSFP_SIFT_pred=D,D,D,D,D;DP=135;MQ=59.9;MQ0=0;NT=ref;QSS=52;QSS_NT=52;ReadPosRankSum=0.17;SGT=TT->AT;SNVSB=0;SOMATIC;SomaticEVS=23.44;TQSS=2;TQSS_NT=2;rna_tum_freq=0;rna_tum_depth=32;rna_ref_freq=0.0135;rna_ref_depth=148\tAU:CU:DP:FDP:GU:SDP:SUBDP:TU\t1,1:0,0:78:1:0,1:0:0:76,76\t3,3:0,0:54:1:3,3:0:0:47,51\n",
      "\n",
      "1 events in range detected (chr6 - 109767339 on 109767560)\n",
      "Personalisizing sequence len:222 with 1 events\n",
      "Eventstart 109767448, offset: 109767339 -> pos:109\n",
      "Char at  109: T (region +-3: CCCTGA)\n",
      "chr6\t109767449\t.\tT\tA\t.\tfv.som_all_freq_nor\tANN=A|missense_variant|MODERATE|MICAL1|ENSG00000135596|transcript|ENST00000368952|protein_coding|19/25|c.2528A>T|p.Asp843Val|2819/3678|2528/3261|843/1086||,A|missense_variant|MODERATE|MICAL1|ENSG00000135596|transcript|ENST00000358807|protein_coding|19/25|c.2471A>T|p.Asp824Val|2783/3645|2471/3204|824/1067||,A|missense_variant|MODERATE|MICAL1|ENSG00000135596|transcript|ENST00000358577|protein_coding|18/24|c.2213A>T|p.Asp738Val|2525/3384|2213/2946|738/981||,A|non_coding_transcript_exon_variant|MODIFIER|MICAL1|ENSG00000135596|transcript|ENST00000456101|retained_intron|19/25|n.3250A>T||||||,A|non_coding_transcript_exon_variant|MODIFIER|MICAL1|ENSG00000135596|transcript|ENST00000465904|retained_intron|3/9|n.3522A>T||||||;dbNSFP_CADD_phred=20.4;dbNSFP_FATHMM_pred=T,T,T;dbNSFP_MetaLR_pred=T;dbNSFP_phyloP100way_vertebrate=1.517;dbNSFP_Polyphen2_HVAR_pred=B,P,B;dbNSFP_SIFT_pred=D,D,D,D,D;DP=135;MQ=59.9;MQ0=0;NT=ref;QSS=52;QSS_NT=52;ReadPosRankSum=0.17;SGT=TT->AT;SNVSB=0;SOMATIC;SomaticEVS=23.44;TQSS=2;TQSS_NT=2;rna_tum_freq=0;rna_tum_depth=32;rna_ref_freq=0.0135;rna_ref_depth=148\tAU:CU:DP:FDP:GU:SDP:SUBDP:TU\t1,1:0,0:78:1:0,1:0:0:76,76\t3,3:0,0:54:1:3,3:0:0:47,51\n",
      "\n",
      "1 events in range detected (chr6 - 109767339 on 109767615)\n",
      "Personalisizing sequence len:277 with 1 events\n",
      "Eventstart 109767448, offset: 109767339 -> pos:109\n",
      "Char at  109: A (region +-3: GGCAGA)\n",
      "chr6\t109767449\t.\tT\tA\t.\tfv.som_all_freq_nor\tANN=A|missense_variant|MODERATE|MICAL1|ENSG00000135596|transcript|ENST00000368952|protein_coding|19/25|c.2528A>T|p.Asp843Val|2819/3678|2528/3261|843/1086||,A|missense_variant|MODERATE|MICAL1|ENSG00000135596|transcript|ENST00000358807|protein_coding|19/25|c.2471A>T|p.Asp824Val|2783/3645|2471/3204|824/1067||,A|missense_variant|MODERATE|MICAL1|ENSG00000135596|transcript|ENST00000358577|protein_coding|18/24|c.2213A>T|p.Asp738Val|2525/3384|2213/2946|738/981||,A|non_coding_transcript_exon_variant|MODIFIER|MICAL1|ENSG00000135596|transcript|ENST00000456101|retained_intron|19/25|n.3250A>T||||||,A|non_coding_transcript_exon_variant|MODIFIER|MICAL1|ENSG00000135596|transcript|ENST00000465904|retained_intron|3/9|n.3522A>T||||||;dbNSFP_CADD_phred=20.4;dbNSFP_FATHMM_pred=T,T,T;dbNSFP_MetaLR_pred=T;dbNSFP_phyloP100way_vertebrate=1.517;dbNSFP_Polyphen2_HVAR_pred=B,P,B;dbNSFP_SIFT_pred=D,D,D,D,D;DP=135;MQ=59.9;MQ0=0;NT=ref;QSS=52;QSS_NT=52;ReadPosRankSum=0.17;SGT=TT->AT;SNVSB=0;SOMATIC;SomaticEVS=23.44;TQSS=2;TQSS_NT=2;rna_tum_freq=0;rna_tum_depth=32;rna_ref_freq=0.0135;rna_ref_depth=148\tAU:CU:DP:FDP:GU:SDP:SUBDP:TU\t1,1:0,0:78:1:0,1:0:0:76,76\t3,3:0,0:54:1:3,3:0:0:47,51\n",
      "\n",
      "1 events in range detected (chr7 - 100417179 on 100417511)\n",
      "Personalisizing sequence len:333 with 1 events\n",
      "Eventstart 100417336, offset: 100417179 -> pos:157\n",
      "Char at  157: G (region +-3: CGGGGG)\n",
      "chr7\t100417337\t.\tT\tG\t.\tfv.som_all_freq_nor\tANN=G|missense_variant|MODERATE|EPHB4|ENSG00000196411|transcript|ENST00000358173|protein_coding|6/17|c.1139A>C|p.Asp380Ala|1608/4329|1139/2964|380/987||,G|missense_variant|MODERATE|EPHB4|ENSG00000196411|transcript|ENST00000360620|protein_coding|6/16|c.1139A>C|p.Asp380Ala|1224/3789|1139/2808|380/935||,G|intron_variant|MODIFIER|EPHB4|ENSG00000196411|transcript|ENST00000489808|processed_transcript|4/4|n.809-2358A>C||||||,G|non_coding_transcript_exon_variant|MODIFIER|EPHB4|ENSG00000196411|transcript|ENST00000487222|retained_intron|5/16|n.2340A>C||||||,G|non_coding_transcript_exon_variant|MODIFIER|EPHB4|ENSG00000196411|transcript|ENST00000477446|processed_transcript|6/9|n.1139A>C||||||,G|non_coding_transcript_exon_variant|MODIFIER|EPHB4|ENSG00000196411|transcript|ENST00000492878|retained_intron|2/3|n.517A>C||||||;dbNSFP_CADD_phred=10.84;dbNSFP_FATHMM_pred=T,T;dbNSFP_Interpro_domain=Fibronectin__type_III__4_,Immunoglobulin-like_fold__1_;dbNSFP_MetaLR_pred=T;dbNSFP_phyloP100way_vertebrate=0.653;dbNSFP_Polyphen2_HVAR_pred=B,B,B,B;dbNSFP_SIFT_pred=T,T;DP=168;MQ=59.85;MQ0=0;NT=ref;OMIM=600011_[EPHB4_(provisional)_Hydrops_fetalis,nonimmune,and/or_atrial_septal_defect,617300];QSS=58;QSS_NT=58;ReadPosRankSum=-1.66;SGT=TT->GT;SNVSB=0;SOMATIC;SomaticEVS=23.77;TQSS=1;TQSS_NT=1;rna_tum_freq=0;rna_tum_depth=60;rna_ref_freq=0.0667;rna_ref_depth=45\tAU:CU:DP:FDP:GU:SDP:SUBDP:TU\t0,0:0,0:61:1:3,3:0:0:57,59\t1,1:0,0:105:2:15,15:0:0:87,90\n",
      "\n",
      "1 events in range detected (chr7 - 100417179 on 100417511)\n",
      "Personalisizing sequence len:333 with 1 events\n",
      "Eventstart 100417336, offset: 100417179 -> pos:157\n",
      "Char at  157: G (region +-3: CGGGGG)\n",
      "chr7\t100417337\t.\tT\tG\t.\tfv.som_all_freq_nor\tANN=G|missense_variant|MODERATE|EPHB4|ENSG00000196411|transcript|ENST00000358173|protein_coding|6/17|c.1139A>C|p.Asp380Ala|1608/4329|1139/2964|380/987||,G|missense_variant|MODERATE|EPHB4|ENSG00000196411|transcript|ENST00000360620|protein_coding|6/16|c.1139A>C|p.Asp380Ala|1224/3789|1139/2808|380/935||,G|intron_variant|MODIFIER|EPHB4|ENSG00000196411|transcript|ENST00000489808|processed_transcript|4/4|n.809-2358A>C||||||,G|non_coding_transcript_exon_variant|MODIFIER|EPHB4|ENSG00000196411|transcript|ENST00000487222|retained_intron|5/16|n.2340A>C||||||,G|non_coding_transcript_exon_variant|MODIFIER|EPHB4|ENSG00000196411|transcript|ENST00000477446|processed_transcript|6/9|n.1139A>C||||||,G|non_coding_transcript_exon_variant|MODIFIER|EPHB4|ENSG00000196411|transcript|ENST00000492878|retained_intron|2/3|n.517A>C||||||;dbNSFP_CADD_phred=10.84;dbNSFP_FATHMM_pred=T,T;dbNSFP_Interpro_domain=Fibronectin__type_III__4_,Immunoglobulin-like_fold__1_;dbNSFP_MetaLR_pred=T;dbNSFP_phyloP100way_vertebrate=0.653;dbNSFP_Polyphen2_HVAR_pred=B,B,B,B;dbNSFP_SIFT_pred=T,T;DP=168;MQ=59.85;MQ0=0;NT=ref;OMIM=600011_[EPHB4_(provisional)_Hydrops_fetalis,nonimmune,and/or_atrial_septal_defect,617300];QSS=58;QSS_NT=58;ReadPosRankSum=-1.66;SGT=TT->GT;SNVSB=0;SOMATIC;SomaticEVS=23.77;TQSS=1;TQSS_NT=1;rna_tum_freq=0;rna_tum_depth=60;rna_ref_freq=0.0667;rna_ref_depth=45\tAU:CU:DP:FDP:GU:SDP:SUBDP:TU\t0,0:0,0:61:1:3,3:0:0:57,59\t1,1:0,0:105:2:15,15:0:0:87,90\n",
      "\n",
      "1 events in range detected (chr8 - 22460050 on 22460099)\n",
      "Personalisizing sequence len:50 with 1 events\n",
      "Eventstart 22460062, offset: 22460050 -> pos:12\n",
      "Char at  12: C (region +-3: TCCCAC)\n",
      "chr8\t22460063\t.\tA\tT\t.\tPASS\tANN=T|missense_variant|MODERATE|C8orf58|ENSG00000241852|transcript|ENST00000289989|protein_coding|6/7|c.893A>T|p.His298Leu|967/2016|893/1098|298/365||,T|missense_variant|MODERATE|C8orf58|ENSG00000241852|transcript|ENST00000475994|protein_coding|3/3|c.409A>T|p.Thr137Ser|412/448|409/445|137/147||WARNING_TRANSCRIPT_INCOMPLETE,T|missense_variant|MODERATE|C8orf58|ENSG00000241852|transcript|ENST00000495957|protein_coding|2/2|c.428A>T|p.His143Leu|429/807|428/525|143/174||WARNING_TRANSCRIPT_NO_START_CODON,T|splice_region_variant&intron_variant|LOW|C8orf58|ENSG00000241852|transcript|ENST00000409586|protein_coding|5/6|c.880-11A>T||||||;dbNSFP_CADD_phred=26.1,26.1;dbNSFP_MetaLR_pred=T,T;dbNSFP_phyloP100way_vertebrate=3.021,3.021;dbNSFP_Polyphen2_HVAR_pred=D,.;dbNSFP_SIFT_pred=D,D,D;DP=123;MQ=60;MQ0=0;NT=ref;QSS=81;QSS_NT=81;ReadPosRankSum=-0.16;SGT=AA->AT;SNVSB=0;SOMATIC;SomaticEVS=37.09;TQSS=1;TQSS_NT=1;rna_tum_freq=0;rna_tum_depth=4;rna_ref_freq=0;rna_ref_depth=11\tAU:CU:DP:FDP:GU:SDP:SUBDP:TU\t66,67:0,0:67:1:0,0:0:0:0,0\t48,48:0,0:56:0:0,0:0:0:8,8\n",
      "\n"
     ]
    }
   ],
   "source": [
    "for gene in db.features_of_type('gene'):\n",
    "    get_gene_sequences(gene)"
   ]
  },
  {
   "cell_type": "code",
   "execution_count": 132,
   "metadata": {},
   "outputs": [],
   "source": [
    "def get_gene_sequences(gene):\n",
    "    sequences = []\n",
    "    for i in db.children(gene,featuretype='exon'):\n",
    "        #print (\"%i %i\")%(i.start,i.stop)\n",
    "        #print i.sequence(fasta)\n",
    "        events=check_feature_for_vcfevent(i)\n",
    "        if len(events) == 0:\n",
    "            sequences.append(i.sequence(fasta))\n",
    "        else:\n",
    "            sequences.append(get_modified_sequence(i.sequence(fasta),events,i.start))\n",
    "            #return get_modified_sequence(i.sequence(fasta),events)\n",
    "    return sequences       "
   ]
  },
  {
   "cell_type": "code",
   "execution_count": 101,
   "metadata": {},
   "outputs": [],
   "source": [
    "def check_feature_for_vcfevent(feature):\n",
    "    vcfevents = []\n",
    "    if feature.chrom not in vcfrecords.header.contigs:\n",
    "        print \"Chrom not found\"\n",
    "        return vcfevents\n",
    "    for rec in vcfrecords.fetch(feature.chrom,feature.start,feature.stop):\n",
    "        vcfevents.append(rec)\n",
    "       #a=rec\n",
    "    if len(vcfevents) == 0:\n",
    "        return vcfevents\n",
    "        #print \"no events in range detected (%s - %i on %i)\"%(feature.chrom,feature.start,feature.stop)\n",
    "    else:\n",
    "        print \"%i events in range detected (%s - %i on %i)\"%(len(vcfevents),feature.chrom,feature.start,feature.stop)\n",
    "        \n",
    "    return vcfevents"
   ]
  },
  {
   "cell_type": "code",
   "execution_count": 141,
   "metadata": {},
   "outputs": [],
   "source": [
    "def get_modified_sequence(in_seq,events,offset):\n",
    "    print \"Personalisizing sequence len:%i with %i events\"%(len(in_seq),len(events))\n",
    "    for event in events:\n",
    "        eventpos=event.start-offset\n",
    "        print \"Eventstart %i, offset: %i -> pos:%i\"%(event.start,offset,eventpos)\n",
    "        print \"Char at  %i: %s (region +-3: %s)\" %(eventpos,in_seq[eventpos],in_seq[eventpos-3:eventpos+3])\n",
    "        print event\n",
    "        \n",
    "    return tmp"
   ]
  },
  {
   "cell_type": "code",
   "execution_count": 130,
   "metadata": {},
   "outputs": [
    {
     "name": "stdout",
     "output_type": "stream",
     "text": [
      "None\n"
     ]
    }
   ],
   "source": [
    "print tmp"
   ]
  },
  {
   "cell_type": "code",
   "execution_count": null,
   "metadata": {},
   "outputs": [],
   "source": []
  }
 ],
 "metadata": {
  "kernelspec": {
   "display_name": "Python 2",
   "language": "python",
   "name": "python2"
  },
  "language_info": {
   "codemirror_mode": {
    "name": "ipython",
    "version": 2
   },
   "file_extension": ".py",
   "mimetype": "text/x-python",
   "name": "python",
   "nbconvert_exporter": "python",
   "pygments_lexer": "ipython2",
   "version": "2.7.15"
  }
 },
 "nbformat": 4,
 "nbformat_minor": 2
}
