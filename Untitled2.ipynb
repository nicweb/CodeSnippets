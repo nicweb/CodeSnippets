{
 "cells": [
  {
   "cell_type": "code",
   "execution_count": 168,
   "metadata": {},
   "outputs": [],
   "source": [
    "import gffutils\n",
    "import pyfaidx\n",
    "from pysam import VariantFile\n",
    "from Bio import SeqIO"
   ]
  },
  {
   "cell_type": "code",
   "execution_count": 181,
   "metadata": {},
   "outputs": [],
   "source": [
    "#db = gffutils.create_db('/tmp/ensg228794.gff', ':memory:')\n",
    "db = gffutils.create_db('/mnt/test_data/hepavac34/rna_benign/spladdrout/merge_graphs_alt_5prime_C3.confirmed.gff3', ':memory:')\n",
    "fasta = pyfaidx.Fasta('/mnt/test_data/refs/GRCh37.primary_assembly.genome.fa')\n",
    "vcffile='/tmp/vcf.vcf.gz'\n"
   ]
  },
  {
   "cell_type": "code",
   "execution_count": 182,
   "metadata": {
    "scrolled": true
   },
   "outputs": [
    {
     "name": "stdout",
     "output_type": "stream",
     "text": [
      "1 events in range detected (chr1 - 16959609 on 16959841)\n",
      "Personalisizing sequence len:233 with 1 events\n",
      "Eventstart 16959813, offset: 16959609 -> pos:204\n",
      "Char at  204: A (region +-3: GCCAGG)\n",
      "warning SNP missmatch\n",
      "1 events in range detected (chr1 - 16959590 on 16959841)\n",
      "Personalisizing sequence len:252 with 1 events\n",
      "Eventstart 16959813, offset: 16959590 -> pos:223\n",
      "Char at  223: G (region +-3: GGTGCT)\n",
      "warning SNP missmatch\n",
      "1 events in range detected (chr11 - 65652549 on 65652657)\n",
      "Personalisizing sequence len:109 with 1 events\n",
      "Eventstart 65652599, offset: 65652549 -> pos:50\n",
      "Char at  50: G (region +-3: CAGGAC)\n",
      "warning SNP missmatch\n",
      "1 events in range detected (chr11 - 65652549 on 65652657)\n",
      "Personalisizing sequence len:109 with 1 events\n",
      "Eventstart 65652599, offset: 65652549 -> pos:50\n",
      "Char at  50: G (region +-3: CAGGAC)\n",
      "warning SNP missmatch\n",
      "1 events in range detected (chr20 - 61588793 on 61588932)\n",
      "Personalisizing sequence len:140 with 1 events\n",
      "Eventstart 61588823, offset: 61588793 -> pos:30\n",
      "Char at  30: A (region +-3: GTCAGC)\n",
      "warning SNP missmatch\n",
      "1 events in range detected (chr20 - 61588793 on 61588932)\n",
      "Personalisizing sequence len:140 with 1 events\n",
      "Eventstart 61588823, offset: 61588793 -> pos:30\n",
      "Char at  30: A (region +-3: GTCAGC)\n",
      "warning SNP missmatch\n",
      "1 events in range detected (chr20 - 33328167 on 33331145)\n",
      "Personalisizing sequence len:2979 with 1 events\n",
      "Eventstart 33328421, offset: 33328167 -> pos:254\n",
      "Char at  254: C (region +-3: CCTCCA)\n",
      "warning SNP missmatch\n",
      "1 events in range detected (chr6 - 109767339 on 109767615)\n",
      "Personalisizing sequence len:277 with 1 events\n",
      "Eventstart 109767448, offset: 109767339 -> pos:109\n",
      "Char at  109: A (region +-3: GGCAGA)\n",
      "warning SNP missmatch\n",
      "1 events in range detected (chr6 - 109767339 on 109767615)\n",
      "Personalisizing sequence len:277 with 1 events\n",
      "Eventstart 109767448, offset: 109767339 -> pos:109\n",
      "Char at  109: A (region +-3: GGCAGA)\n",
      "warning SNP missmatch\n"
     ]
    }
   ],
   "source": [
    "seqs=''\n",
    "for gene in db.features_of_type('gene'):\n",
    "    seqs=get_gene_sequences(gene)"
   ]
  },
  {
   "cell_type": "code",
   "execution_count": 132,
   "metadata": {},
   "outputs": [],
   "source": [
    "def get_gene_sequences(gene):\n",
    "    sequences = []\n",
    "    for i in db.children(gene,featuretype='exon'):\n",
    "        #print (\"%i %i\")%(i.start,i.stop)\n",
    "        #print i.sequence(fasta)\n",
    "        events=check_feature_for_vcfevent(i)\n",
    "        if len(events) == 0:\n",
    "            sequences.append(i.sequence(fasta))\n",
    "        else:\n",
    "            sequences.append(get_modified_sequence(i.sequence(fasta),events,i.start))\n",
    "            #return get_modified_sequence(i.sequence(fasta),events)\n",
    "    return sequences       "
   ]
  },
  {
   "cell_type": "code",
   "execution_count": 101,
   "metadata": {},
   "outputs": [],
   "source": [
    "def check_feature_for_vcfevent(feature):\n",
    "    vcfevents = []\n",
    "    if feature.chrom not in vcfrecords.header.contigs:\n",
    "        print \"Chrom not found\"\n",
    "        return vcfevents\n",
    "    for rec in vcfrecords.fetch(feature.chrom,feature.start,feature.stop):\n",
    "        vcfevents.append(rec)\n",
    "       #a=rec\n",
    "    if len(vcfevents) == 0:\n",
    "        return vcfevents\n",
    "        #print \"no events in range detected (%s - %i on %i)\"%(feature.chrom,feature.start,feature.stop)\n",
    "    else:\n",
    "        print \"%i events in range detected (%s - %i on %i)\"%(len(vcfevents),feature.chrom,feature.start,feature.stop)\n",
    "        \n",
    "    return vcfevents"
   ]
  },
  {
   "cell_type": "code",
   "execution_count": 160,
   "metadata": {},
   "outputs": [],
   "source": [
    "def get_modified_sequence(in_seq,events,offset):\n",
    "    print \"Personalisizing sequence len:%i with %i events\"%(len(in_seq),len(events))\n",
    "    lengthchange=0\n",
    "    for event in events:\n",
    "        eventpos=event.start-offset\n",
    "        print \"Eventstart %i, offset: %i -> pos:%i\"%(event.start,offset,eventpos)\n",
    "        print \"Char at  %i: %s (region +-3: %s)\" %(eventpos,in_seq[eventpos],in_seq[eventpos-3:eventpos+3])\n",
    "        alleles=event.alleles\n",
    "        l = list(in_seq)\n",
    "        \n",
    "        if is_snp(alleles):\n",
    "          #  print \"Found SNP substituting %s with %s\" %(l[eventpos],alleles[1])\n",
    "            if l[eventpos]!= alleles[0]:\n",
    "                print \"warning SNP missmatch\"\n",
    "            l[eventpos]=alleles[1]\n",
    "        if is_del(alleles):\n",
    "            l[eventpos]=alleles[1] #TODO falsch!\n",
    "            lengthchange-=len(alleles[1])-len(alleles[0])\n",
    "            print \"Found deletion: deleting %s from sequences\"%alleles[0]\n",
    "            print alleles\n",
    "            print event\n",
    "        if is_insert(alleles):\n",
    "            l.insert(eventpos,alleles[1])\n",
    "            lengthchange+=len(alleles[0])-len(alleles[1])\n",
    "            print \"found insert: inserting %s into sequence at pos %i\"%alleles[1],eventpos\n",
    "            print event\n",
    "    new_seq=''.join(l)\n",
    "    if (len(in_seq)-len(new_seq)) != lengthchange:\n",
    "        print \"Warning: length changed %i (should be %i)\" %(len(in_seq)-len(new_seq),lengthchange)\n",
    "    return new_seq "
   ]
  },
  {
   "cell_type": "code",
   "execution_count": 130,
   "metadata": {},
   "outputs": [
    {
     "name": "stdout",
     "output_type": "stream",
     "text": [
      "None\n"
     ]
    }
   ],
   "source": [
    "print tmp"
   ]
  },
  {
   "cell_type": "code",
   "execution_count": 152,
   "metadata": {},
   "outputs": [],
   "source": [
    "def is_snp(e):\n",
    "    if len(e[0]) == 1 and len(e[1]) == 1:\n",
    "        return True\n",
    "    return False\n",
    "\n",
    "def is_insert(e):\n",
    "    if len(e[0])<len(e[1]):\n",
    "        return True\n",
    "    return False\n",
    "\n",
    "def is_del(e):\n",
    "    if len(e[0])>len(e[1]):\n",
    "        return True\n",
    "    return False"
   ]
  },
  {
   "cell_type": "code",
   "execution_count": 162,
   "metadata": {},
   "outputs": [
    {
     "ename": "NameError",
     "evalue": "name 'seqs' is not defined",
     "output_type": "error",
     "traceback": [
      "\u001b[0;31m---------------------------------------------------------------------------\u001b[0m",
      "\u001b[0;31mNameError\u001b[0m                                 Traceback (most recent call last)",
      "\u001b[0;32m<ipython-input-162-352ffb5ee93c>\u001b[0m in \u001b[0;36m<module>\u001b[0;34m()\u001b[0m\n\u001b[0;32m----> 1\u001b[0;31m \u001b[0mseqs\u001b[0m\u001b[0;34m\u001b[0m\u001b[0m\n\u001b[0m",
      "\u001b[0;31mNameError\u001b[0m: name 'seqs' is not defined"
     ]
    }
   ],
   "source": [
    "seqs"
   ]
  },
  {
   "cell_type": "code",
   "execution_count": 169,
   "metadata": {},
   "outputs": [
    {
     "data": {
      "text/plain": [
       "SeqRecord(seq='GATGTCCTGGAACAGGTGGAGGCCTATCAAGCTGAGGCTCGTGAGGCTCTGGCCACACTGCCCTCTAGTCCAGGGCTATTGCGGTCCCTGTTGGAGAGGGGGCAGCAGCTGGGTGTAGAGGTGCCTGAAGCCCATCAGCTTCAGCAGCAGGTGGAGCAGGCGCAATGGCTAGATGAAGTGAAGCAGGCCCTGGCCCCTTCTGCTCACAGGGGCTCTCTGGTCATCATGCAGGGGCTTTTGGTTATGGGTGCCAAGATAGCCTCCAGCCCTTCTGTGGACAAGGCCCGGGCTGAGCTGCAAGAACTACTGACCATTGCAGAGCGCTGGGAAGAAAAGGCTCATTTCTGCCTGGAGGCCAG', id='<unknown id>', name='<unknown name>', description='<unknown description>', dbxrefs=[])"
      ]
     },
     "execution_count": 169,
     "metadata": {},
     "output_type": "execute_result"
    }
   ],
   "source": [
    "SeqIO.SeqRecord(seqs[0])"
   ]
  },
  {
   "cell_type": "code",
   "execution_count": 173,
   "metadata": {},
   "outputs": [
    {
     "data": {
      "text/plain": [
       "'alt_3prime.18873'"
      ]
     },
     "execution_count": 173,
     "metadata": {},
     "output_type": "execute_result"
    }
   ],
   "source": [
    "gene.id"
   ]
  },
  {
   "cell_type": "code",
   "execution_count": 174,
   "metadata": {},
   "outputs": [
    {
     "data": {
      "text/plain": [
       "<Feature gene (chrY:21871337-21872358[-]) at 0x7f90c81405d0>"
      ]
     },
     "execution_count": 174,
     "metadata": {},
     "output_type": "execute_result"
    }
   ],
   "source": [
    "gene"
   ]
  },
  {
   "cell_type": "code",
   "execution_count": 184,
   "metadata": {},
   "outputs": [],
   "source": [
    "a=db.children(gene,featuretype='exon').next()"
   ]
  },
  {
   "cell_type": "code",
   "execution_count": 197,
   "metadata": {},
   "outputs": [
    {
     "data": {
      "text/plain": [
       "str"
      ]
     },
     "execution_count": 197,
     "metadata": {},
     "output_type": "execute_result"
    }
   ],
   "source": [
    "type(a.attributes['Parent'][0])"
   ]
  },
  {
   "cell_type": "code",
   "execution_count": 200,
   "metadata": {},
   "outputs": [
    {
     "data": {
      "text/plain": [
       "('exon_19385',\n",
       " 'chrY',\n",
       " 'alt_5prime',\n",
       " 'exon',\n",
       " 21869820,\n",
       " 21869957,\n",
       " '.',\n",
       " '-',\n",
       " '.',\n",
       " '{\"Parent\":[\"alt_5prime.16725_iso1\"]}',\n",
       " '[]',\n",
       " 4847)"
      ]
     },
     "execution_count": 200,
     "metadata": {},
     "output_type": "execute_result"
    }
   ],
   "source": [
    "a.astuple()"
   ]
  },
  {
   "cell_type": "code",
   "execution_count": null,
   "metadata": {},
   "outputs": [],
   "source": []
  }
 ],
 "metadata": {
  "kernelspec": {
   "display_name": "Python 2",
   "language": "python",
   "name": "python2"
  },
  "language_info": {
   "codemirror_mode": {
    "name": "ipython",
    "version": 2
   },
   "file_extension": ".py",
   "mimetype": "text/x-python",
   "name": "python",
   "nbconvert_exporter": "python",
   "pygments_lexer": "ipython2",
   "version": "2.7.15"
  }
 },
 "nbformat": 4,
 "nbformat_minor": 2
}
