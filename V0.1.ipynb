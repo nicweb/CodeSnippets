{
 "cells": [
  {
   "cell_type": "code",
   "execution_count": 28,
   "metadata": {},
   "outputs": [],
   "source": [
    "from BCBio import GFF\n",
    "import operator\n",
    "from Bio.SeqRecord import SeqRecord\n",
    "import glob, os\n",
    "from Bio import SeqIO\n",
    "import time\n",
    "import pysam\n",
    "\n",
    "import gffutils\n",
    "import pyfaidx\n",
    "from pysam import VariantFile\n"
   ]
  },
  {
   "cell_type": "code",
   "execution_count": 52,
   "metadata": {},
   "outputs": [],
   "source": [
    "sourcebase= '/mnt/test_data/hepavac34/rna_benign/spladdrout'\n",
    "#sourcebase = '/tmp/'\n",
    "reffile = '/mnt/test_data/refs/GRCh37.primary_assembly.genome.fa'\n",
    "fileending = 'gff3'\n",
    "vcffile= '/tmp/vcf.vcf.gz' #must be indexed!\n",
    "\n",
    "#db = gffutils.create_db('/tmp/ensg228794.gff', ':memory:')\n",
    "fasta = pyfaidx.Fasta('/mnt/test_data/refs/GRCh37.primary_assembly.genome.fa')\n",
    "vcffile='/tmp/vcf.vcf.gz'\n",
    "\n",
    "outfile = '/tmp/predicted_exons.fa'\n",
    "outfile2 = '/tmp/predicted_genes.fa'  \n",
    "vcfrecords=VariantFile(vcffile)\n"
   ]
  },
  {
   "cell_type": "code",
   "execution_count": 30,
   "metadata": {},
   "outputs": [],
   "source": [
    "#Getting all gff-files in base directory\n",
    "def get_gff_files(sourcebase):\n",
    "    print \"Checking for GFF Files in directory...\"\n",
    "    gfffiles = []\n",
    "    os.chdir(sourcebase)\n",
    "    for file in glob.glob(\"*.%s\" %fileending):\n",
    "        gfffiles.append(file)\n",
    "    print \"Found %i file(s) in %s ending with %s.\" %(len(gfffiles), sourcebase, fileending)\n",
    "    return gfffiles"
   ]
  },
  {
   "cell_type": "code",
   "execution_count": 59,
   "metadata": {},
   "outputs": [],
   "source": [
    "def get_gene_sequences(gene):\n",
    "    sequences = []\n",
    "    num_mod=0\n",
    "    for i in db.children(gene,featuretype='exon'):\n",
    "        #print (\"%i %i\")%(i.start,i.stop)\n",
    "        #print i.sequence(fasta)\n",
    "        events=check_feature_for_vcfevent(i)\n",
    "        if len(events) == 0:\n",
    "            sequences.append(SeqIO.SeqRecord(Seq.translate(i.sequence(fasta),to_stop=True),id=i.id,name=gene.id))\n",
    "        else:\n",
    "            num_mod+=1\n",
    "            sequences.append(SeqIO.SeqRecord(get_modified_sequence(i.sequence(fasta),events,i.start),id=i.id,name=gene.id))\n",
    "            #return get_modified_sequence(i.sequence(fasta),events)\n",
    "    return sequences , num_mod "
   ]
  },
  {
   "cell_type": "code",
   "execution_count": 32,
   "metadata": {},
   "outputs": [],
   "source": [
    "def check_feature_for_vcfevent(feature):\n",
    "    vcfevents = []\n",
    "    if feature.chrom not in vcfrecords.header.contigs:\n",
    "        print \"Chrom not found\"\n",
    "        return vcfevents\n",
    "    for rec in vcfrecords.fetch(feature.chrom,feature.start,feature.stop):\n",
    "        vcfevents.append(rec)\n",
    "       #a=rec\n",
    "    if len(vcfevents) == 0:\n",
    "        return vcfevents\n",
    "        #print \"no events in range detected (%s - %i on %i)\"%(feature.chrom,feature.start,feature.stop)\n",
    "    else:\n",
    "        print \"%i events in range detected (%s - %i on %i)\"%(len(vcfevents),feature.chrom,feature.start,feature.stop)\n",
    "        \n",
    "    return vcfevents"
   ]
  },
  {
   "cell_type": "code",
   "execution_count": 33,
   "metadata": {},
   "outputs": [],
   "source": [
    "def get_modified_sequence(in_seq,events,offset):\n",
    "    print \"Personalisizing sequence len:%i with %i events\"%(len(in_seq),len(events))\n",
    "    lengthchange=0\n",
    "    for event in events:\n",
    "        eventpos=event.start-offset\n",
    "        print \"Eventstart %i, offset: %i -> pos:%i\"%(event.start,offset,eventpos)\n",
    "        print \"Char at  %i: %s (region +-3: %s)\" %(eventpos,in_seq[eventpos],in_seq[eventpos-3:eventpos+3])\n",
    "        alleles=event.alleles\n",
    "        l = list(in_seq)\n",
    "        \n",
    "        if is_snp(alleles):\n",
    "          #  print \"Found SNP substituting %s with %s\" %(l[eventpos],alleles[1])\n",
    "            if l[eventpos]!= alleles[0]:\n",
    "                print \"warning SNP missmatch\"\n",
    "            l[eventpos]=alleles[1]\n",
    "        if is_del(alleles):\n",
    "            l[eventpos]=alleles[1] #TODO falsch!\n",
    "            lengthchange-=len(alleles[1])-len(alleles[0])\n",
    "            print \"Found deletion: deleting %s from sequences\"%alleles[0]\n",
    "            print alleles\n",
    "            print event\n",
    "        if is_insert(alleles):\n",
    "            l.insert(eventpos,alleles[1])\n",
    "            lengthchange+=len(alleles[0])-len(alleles[1])\n",
    "            print \"found insert: inserting %s into sequence at pos %i\"%alleles[1],eventpos\n",
    "            print event\n",
    "    new_seq=''.join(l)\n",
    "    if (len(in_seq)-len(new_seq)) != lengthchange:\n",
    "        print \"Warning: length changed %i (should be %i)\" %(len(in_seq)-len(new_seq),lengthchange)\n",
    "    return new_seq "
   ]
  },
  {
   "cell_type": "code",
   "execution_count": 34,
   "metadata": {},
   "outputs": [],
   "source": [
    "def is_snp(e):\n",
    "    if len(e[0]) == 1 and len(e[1]) == 1:\n",
    "        return True\n",
    "    return False\n",
    "\n",
    "def is_insert(e):\n",
    "    if len(e[0])<len(e[1]):\n",
    "        return True\n",
    "    return False\n",
    "\n",
    "def is_del(e):\n",
    "    if len(e[0])>len(e[1]):\n",
    "        return True\n",
    "    return False"
   ]
  },
  {
   "cell_type": "code",
   "execution_count": 51,
   "metadata": {},
   "outputs": [],
   "source": [
    "def run():\n",
    "    gfffiles = get_gff_files(sourcebase)\n",
    "    \n",
    "    for infile in gfffiles:\n",
    "        total_genes=0\n",
    "        total_exons=0\n",
    "        total_genes_wrote=0\n",
    "        total_exons_wrote=0\n",
    "        total_mod=0\n",
    "        db = gffutils.create_db(infile, ':memory:')\n",
    "        for gene in db.features_of_type('gene'):\n",
    "            total_genes+=1\n",
    "            seqs,num_mod=get_gene_sequences(gene)\n",
    "            total_exons+=len(seqs)\n",
    "            total_mod+=num_mod\n",
    "        total_exons_wrote+=write_records(seqs,'exons')\n",
    "       # total_genes_wrote+=write_records(seqs,'genes')\n",
    "        print \"processed (and wrote): %s with %i(%i) genes and %i(%i) exons (%i modified))\" %(infile,total_genes,total_genes_wrote,total_exons,total_exons_wrote,total_mod)\n",
    "        \n",
    "    #ref_recs = load_reffile(reffile)\n",
    "    \n",
    "     #   records, records_until_stop = get_records(infile,ref_recs)\n",
    "      #  write_records(records,records_until_stop,os.path.basename(infile))\n",
    "        "
   ]
  },
  {
   "cell_type": "code",
   "execution_count": null,
   "metadata": {},
   "outputs": [],
   "source": []
  },
  {
   "cell_type": "code",
   "execution_count": 44,
   "metadata": {},
   "outputs": [],
   "source": [
    "def write_records(records,type):\n",
    "    #translate records\n",
    "    \n",
    "    if type == 'exons':\n",
    "        with open(outfile, \"w\") as out_handle:\n",
    "            return SeqIO.write(records, out_handle, \"fasta\")\n",
    "    if type == 'genes':\n",
    "        #s=[]\n",
    "        #for seq in records:\n",
    "        #    s.append(str(seq.seq))\n",
    "        #gene=SeqIO.SeqRecord(''.join(s),id=s[0].id)\n",
    "        print \"gene wrting goes here\"\n",
    "       # with open(outfile, \"w\") as out_handle:\n",
    "        #    return SeqIO.write(gene, out_handle, \"fasta\")    \n",
    " "
   ]
  },
  {
   "cell_type": "code",
   "execution_count": 60,
   "metadata": {},
   "outputs": [
    {
     "name": "stdout",
     "output_type": "stream",
     "text": [
      "Checking for GFF Files in directory...\n",
      "Found 5 file(s) in /mnt/test_data/hepavac34/rna_benign/spladdrout ending with gff3.\n",
      "processed (and wrote): merge_graphs_intron_retention_C3.confirmed.gff3 with 5183(0) genes and 0(0) exons (0 modified))\n",
      "processed (and wrote): merge_graphs_alt_5prime_C3.confirmed.gff3 with 4847(0) genes and 0(0) exons (0 modified))\n",
      "Chrom not found\n",
      "Chrom not found\n",
      "Chrom not found\n",
      "Chrom not found\n"
     ]
    },
    {
     "name": "stderr",
     "output_type": "stream",
     "text": [
      "/home/centos/miniconda3/envs/py27/lib/python2.7/site-packages/Bio/Seq.py:2309: BiopythonWarning: Partial codon, len(sequence) not a multiple of three. Explicitly trim the sequence or add trailing N before translation. This may become an error in future.\n",
      "  BiopythonWarning)\n"
     ]
    },
    {
     "name": "stdout",
     "output_type": "stream",
     "text": [
      "1 events in range detected (chr1 - 169509532 on 169512229)\n",
      "Personalisizing sequence len:2698 with 1 events\n",
      "Eventstart 169510649, offset: 169509532 -> pos:1117\n",
      "Char at  1117: A (region +-3: TAAATC)\n",
      "warning SNP missmatch\n",
      "1 events in range detected (chr1 - 169509532 on 169512352)\n",
      "Personalisizing sequence len:2821 with 1 events\n",
      "Eventstart 169510649, offset: 169509532 -> pos:1117\n",
      "Char at  1117: A (region +-3: AAAAAA)\n",
      "warning SNP missmatch\n",
      "1 events in range detected (chr14 - 105221967 on 105223262)\n",
      "Personalisizing sequence len:1296 with 1 events\n",
      "Eventstart 105221961, offset: 105221967 -> pos:-6\n",
      "Char at  -6: T (region +-3: GCTTGG)\n",
      "Found deletion: deleting CCCAGAGAAGACCAA from sequences\n",
      "('CCCAGAGAAGACCAA', 'C')\n",
      "chr14\t105221962\t.\tCCCAGAGAAGACCAA\tC\t.\tPASS\tANN=C|frameshift_variant&splice_acceptor_variant&splice_region_variant&intron_variant|HIGH|SIVA1|ENSG00000184990|transcript|ENST00000556195|protein_coding|2/4|c.170-4_179delCCAGAGAAGACCAA|p.Glu57fs||170/579|57/192||WARNING_TRANSCRIPT_NO_START_CODON,C|frameshift_variant&splice_acceptor_variant&splice_region_variant&intron_variant|HIGH|SIVA1|ENSG00000184990|transcript|ENST00000329967|protein_coding|2/4|c.119-4_128delCCAGAGAAGACCAA|p.Glu40fs||119/528|40/175||,C|frameshift_variant&splice_acceptor_variant&splice_region_variant&intron_variant|HIGH|SIVA1|ENSG00000184990|transcript|ENST00000553810|protein_coding|2/4|c.119-4_128delCCAGAGAAGACCAA|p.Glu40fs||119/508|40/168||WARNING_TRANSCRIPT_INCOMPLETE,C|frameshift_variant&splice_acceptor_variant&splice_region_variant&intron_variant|HIGH|SIVA1|ENSG00000184990|transcript|ENST00000553819|nonsense_mediated_decay|2/6|c.119-4_128delCCAGAGAAGACCAA|p.Glu40fs||119/510|40/169||,C|splice_acceptor_variant&splice_region_variant&intron_variant&non_coding_transcript_exon_variant|HIGH|SIVA1|ENSG00000184990|transcript|ENST00000535554|retained_intron|2/3|n.174-4_183delCCAGAGAAGACCAA||||||,C|splice_acceptor_variant&splice_region_variant&intron_variant&non_coding_transcript_exon_variant|HIGH|SIVA1|ENSG00000184990|transcript|ENST00000556431|retained_intron|2/2|n.119-4_128delCCAGAGAAGACCAA||||||,C|sequence_feature|MODERATE|SIVA1|ENSG00000184990|cross-link:Glycyl_lysine_isopeptide_(Lys-Gly)_(interchain_with_G-Cter_in_ubiquitin)|ENST00000329967|protein_coding|2/4|c.119-4_128delCCAGAGAAGACCAA||||||,C|intron_variant|MODIFIER|SIVA1|ENSG00000184990|transcript|ENST00000347067|protein_coding|1/2|c.119-978_119-965delCCAGAGAAGACCAA||||||,C|intron_variant|MODIFIER|SIVA1|ENSG00000184990|transcript|ENST00000554013|retained_intron|1/1|n.140-978_140-965delCCAGAGAAGACCAA||||||;IC=0;IHP=5;LOF=(SIVA1|ENSG00000184990|8|0.50);MQ=60;MQ0=0;NT=ref;QSI=80;QSI_NT=80;RC=1;RU=CCAGAGAAGACCAA;SGT=ref->het;SOMATIC;TQSI=1;TQSI_NT=1;rna_tum_freq=0;rna_tum_depth=654;rna_ref_freq=0;rna_ref_depth=474\tBCN50:DP:DP2:DP50:FDP50:SUBDP50:TAR:TIR:TOR\t0:32:32:29.24:0:0:39,39:0,0:0,0\t0:24:24:21.12:0:0:15,15:10,10:2,3\n",
      "\n",
      "Warning: length changed 0 (should be 14)\n",
      "1 events in range detected (chr19 - 49611052 on 49611736)\n",
      "Personalisizing sequence len:685 with 1 events\n",
      "Eventstart 49611467, offset: 49611052 -> pos:415\n",
      "Char at  415: G (region +-3: AGCGAG)\n",
      "warning SNP missmatch\n",
      "1 events in range detected (chr19 - 49611079 on 49611736)\n",
      "Personalisizing sequence len:658 with 1 events\n",
      "Eventstart 49611467, offset: 49611079 -> pos:388\n",
      "Char at  388: G (region +-3: AGCGAG)\n",
      "warning SNP missmatch\n",
      "1 events in range detected (chr6 - 109767339 on 109767560)\n",
      "Personalisizing sequence len:222 with 1 events\n",
      "Eventstart 109767448, offset: 109767339 -> pos:109\n",
      "Char at  109: T (region +-3: CCCTGA)\n",
      "1 events in range detected (chr6 - 109767339 on 109767560)\n",
      "Personalisizing sequence len:222 with 1 events\n",
      "Eventstart 109767448, offset: 109767339 -> pos:109\n",
      "Char at  109: T (region +-3: CCCTGA)\n",
      "1 events in range detected (chr6 - 109767339 on 109767560)\n",
      "Personalisizing sequence len:222 with 1 events\n",
      "Eventstart 109767448, offset: 109767339 -> pos:109\n",
      "Char at  109: T (region +-3: CCCTGA)\n",
      "1 events in range detected (chr6 - 109767339 on 109767615)\n",
      "Personalisizing sequence len:277 with 1 events\n",
      "Eventstart 109767448, offset: 109767339 -> pos:109\n",
      "Char at  109: A (region +-3: GGCAGA)\n",
      "warning SNP missmatch\n",
      "1 events in range detected (chr7 - 100417179 on 100417511)\n",
      "Personalisizing sequence len:333 with 1 events\n",
      "Eventstart 100417336, offset: 100417179 -> pos:157\n",
      "Char at  157: G (region +-3: CGGGGG)\n",
      "warning SNP missmatch\n",
      "1 events in range detected (chr7 - 100417179 on 100417511)\n",
      "Personalisizing sequence len:333 with 1 events\n",
      "Eventstart 100417336, offset: 100417179 -> pos:157\n",
      "Char at  157: G (region +-3: CGGGGG)\n",
      "warning SNP missmatch\n",
      "1 events in range detected (chr8 - 22460050 on 22460099)\n",
      "Personalisizing sequence len:50 with 1 events\n",
      "Eventstart 22460062, offset: 22460050 -> pos:12\n",
      "Char at  12: C (region +-3: TCCCAC)\n",
      "warning SNP missmatch\n"
     ]
    },
    {
     "ename": "TypeError",
     "evalue": "SeqRecord (id=exon_28117) has an invalid sequence.",
     "output_type": "error",
     "traceback": [
      "\u001b[0;31m---------------------------------------------------------------------------\u001b[0m",
      "\u001b[0;31mTypeError\u001b[0m                                 Traceback (most recent call last)",
      "\u001b[0;32m<ipython-input-60-ec9775ede022>\u001b[0m in \u001b[0;36m<module>\u001b[0;34m()\u001b[0m\n\u001b[0;32m----> 1\u001b[0;31m \u001b[0mrun\u001b[0m\u001b[0;34m(\u001b[0m\u001b[0;34m)\u001b[0m\u001b[0;34m\u001b[0m\u001b[0m\n\u001b[0m",
      "\u001b[0;32m<ipython-input-51-df111044c343>\u001b[0m in \u001b[0;36mrun\u001b[0;34m()\u001b[0m\n\u001b[1;32m     14\u001b[0m             \u001b[0mtotal_exons\u001b[0m\u001b[0;34m+=\u001b[0m\u001b[0mlen\u001b[0m\u001b[0;34m(\u001b[0m\u001b[0mseqs\u001b[0m\u001b[0;34m)\u001b[0m\u001b[0;34m\u001b[0m\u001b[0m\n\u001b[1;32m     15\u001b[0m             \u001b[0mtotal_mod\u001b[0m\u001b[0;34m+=\u001b[0m\u001b[0mnum_mod\u001b[0m\u001b[0;34m\u001b[0m\u001b[0m\n\u001b[0;32m---> 16\u001b[0;31m         \u001b[0mtotal_exons_wrote\u001b[0m\u001b[0;34m+=\u001b[0m\u001b[0mwrite_records\u001b[0m\u001b[0;34m(\u001b[0m\u001b[0mseqs\u001b[0m\u001b[0;34m,\u001b[0m\u001b[0;34m'exons'\u001b[0m\u001b[0;34m)\u001b[0m\u001b[0;34m\u001b[0m\u001b[0m\n\u001b[0m\u001b[1;32m     17\u001b[0m        \u001b[0;31m# total_genes_wrote+=write_records(seqs,'genes')\u001b[0m\u001b[0;34m\u001b[0m\u001b[0;34m\u001b[0m\u001b[0m\n\u001b[1;32m     18\u001b[0m         \u001b[0;32mprint\u001b[0m \u001b[0;34m\"processed (and wrote): %s with %i(%i) genes and %i(%i) exons (%i modified))\"\u001b[0m \u001b[0;34m%\u001b[0m\u001b[0;34m(\u001b[0m\u001b[0minfile\u001b[0m\u001b[0;34m,\u001b[0m\u001b[0mtotal_genes\u001b[0m\u001b[0;34m,\u001b[0m\u001b[0mtotal_genes_wrote\u001b[0m\u001b[0;34m,\u001b[0m\u001b[0mtotal_exons\u001b[0m\u001b[0;34m,\u001b[0m\u001b[0mtotal_exons_wrote\u001b[0m\u001b[0;34m,\u001b[0m\u001b[0mtotal_mod\u001b[0m\u001b[0;34m)\u001b[0m\u001b[0;34m\u001b[0m\u001b[0m\n",
      "\u001b[0;32m<ipython-input-44-e5fbe657c307>\u001b[0m in \u001b[0;36mwrite_records\u001b[0;34m(records, type)\u001b[0m\n\u001b[1;32m      2\u001b[0m     \u001b[0;32mif\u001b[0m \u001b[0mtype\u001b[0m \u001b[0;34m==\u001b[0m \u001b[0;34m'exons'\u001b[0m\u001b[0;34m:\u001b[0m\u001b[0;34m\u001b[0m\u001b[0m\n\u001b[1;32m      3\u001b[0m         \u001b[0;32mwith\u001b[0m \u001b[0mopen\u001b[0m\u001b[0;34m(\u001b[0m\u001b[0moutfile\u001b[0m\u001b[0;34m,\u001b[0m \u001b[0;34m\"w\"\u001b[0m\u001b[0;34m)\u001b[0m \u001b[0;32mas\u001b[0m \u001b[0mout_handle\u001b[0m\u001b[0;34m:\u001b[0m\u001b[0;34m\u001b[0m\u001b[0m\n\u001b[0;32m----> 4\u001b[0;31m             \u001b[0;32mreturn\u001b[0m \u001b[0mSeqIO\u001b[0m\u001b[0;34m.\u001b[0m\u001b[0mwrite\u001b[0m\u001b[0;34m(\u001b[0m\u001b[0mrecords\u001b[0m\u001b[0;34m,\u001b[0m \u001b[0mout_handle\u001b[0m\u001b[0;34m,\u001b[0m \u001b[0;34m\"fasta\"\u001b[0m\u001b[0;34m)\u001b[0m\u001b[0;34m\u001b[0m\u001b[0m\n\u001b[0m\u001b[1;32m      5\u001b[0m     \u001b[0;32mif\u001b[0m \u001b[0mtype\u001b[0m \u001b[0;34m==\u001b[0m \u001b[0;34m'genes'\u001b[0m\u001b[0;34m:\u001b[0m\u001b[0;34m\u001b[0m\u001b[0m\n\u001b[1;32m      6\u001b[0m         \u001b[0;31m#s=[]\u001b[0m\u001b[0;34m\u001b[0m\u001b[0;34m\u001b[0m\u001b[0m\n",
      "\u001b[0;32m/home/centos/miniconda3/envs/py27/lib/python2.7/site-packages/Bio/SeqIO/__init__.pyc\u001b[0m in \u001b[0;36mwrite\u001b[0;34m(sequences, handle, format)\u001b[0m\n\u001b[1;32m    489\u001b[0m         \u001b[0;32mif\u001b[0m \u001b[0mformat\u001b[0m \u001b[0;32min\u001b[0m \u001b[0m_FormatToWriter\u001b[0m\u001b[0;34m:\u001b[0m\u001b[0;34m\u001b[0m\u001b[0m\n\u001b[1;32m    490\u001b[0m             \u001b[0mwriter_class\u001b[0m \u001b[0;34m=\u001b[0m \u001b[0m_FormatToWriter\u001b[0m\u001b[0;34m[\u001b[0m\u001b[0mformat\u001b[0m\u001b[0;34m]\u001b[0m\u001b[0;34m\u001b[0m\u001b[0m\n\u001b[0;32m--> 491\u001b[0;31m             \u001b[0mcount\u001b[0m \u001b[0;34m=\u001b[0m \u001b[0mwriter_class\u001b[0m\u001b[0;34m(\u001b[0m\u001b[0mfp\u001b[0m\u001b[0;34m)\u001b[0m\u001b[0;34m.\u001b[0m\u001b[0mwrite_file\u001b[0m\u001b[0;34m(\u001b[0m\u001b[0msequences\u001b[0m\u001b[0;34m)\u001b[0m\u001b[0;34m\u001b[0m\u001b[0m\n\u001b[0m\u001b[1;32m    492\u001b[0m         \u001b[0;32melif\u001b[0m \u001b[0mformat\u001b[0m \u001b[0;32min\u001b[0m \u001b[0mAlignIO\u001b[0m\u001b[0;34m.\u001b[0m\u001b[0m_FormatToWriter\u001b[0m\u001b[0;34m:\u001b[0m\u001b[0;34m\u001b[0m\u001b[0m\n\u001b[1;32m    493\u001b[0m             \u001b[0;31m# Try and turn all the records into a single alignment,\u001b[0m\u001b[0;34m\u001b[0m\u001b[0;34m\u001b[0m\u001b[0m\n",
      "\u001b[0;32m/home/centos/miniconda3/envs/py27/lib/python2.7/site-packages/Bio/SeqIO/Interfaces.pyc\u001b[0m in \u001b[0;36mwrite_file\u001b[0;34m(self, records)\u001b[0m\n\u001b[1;32m    212\u001b[0m         \"\"\"\n\u001b[1;32m    213\u001b[0m         \u001b[0mself\u001b[0m\u001b[0;34m.\u001b[0m\u001b[0mwrite_header\u001b[0m\u001b[0;34m(\u001b[0m\u001b[0;34m)\u001b[0m\u001b[0;34m\u001b[0m\u001b[0m\n\u001b[0;32m--> 214\u001b[0;31m         \u001b[0mcount\u001b[0m \u001b[0;34m=\u001b[0m \u001b[0mself\u001b[0m\u001b[0;34m.\u001b[0m\u001b[0mwrite_records\u001b[0m\u001b[0;34m(\u001b[0m\u001b[0mrecords\u001b[0m\u001b[0;34m)\u001b[0m\u001b[0;34m\u001b[0m\u001b[0m\n\u001b[0m\u001b[1;32m    215\u001b[0m         \u001b[0mself\u001b[0m\u001b[0;34m.\u001b[0m\u001b[0mwrite_footer\u001b[0m\u001b[0;34m(\u001b[0m\u001b[0;34m)\u001b[0m\u001b[0;34m\u001b[0m\u001b[0m\n\u001b[1;32m    216\u001b[0m         \u001b[0;32mreturn\u001b[0m \u001b[0mcount\u001b[0m\u001b[0;34m\u001b[0m\u001b[0m\n",
      "\u001b[0;32m/home/centos/miniconda3/envs/py27/lib/python2.7/site-packages/Bio/SeqIO/Interfaces.pyc\u001b[0m in \u001b[0;36mwrite_records\u001b[0;34m(self, records)\u001b[0m\n\u001b[1;32m    197\u001b[0m         \u001b[0mcount\u001b[0m \u001b[0;34m=\u001b[0m \u001b[0;36m0\u001b[0m\u001b[0;34m\u001b[0m\u001b[0m\n\u001b[1;32m    198\u001b[0m         \u001b[0;32mfor\u001b[0m \u001b[0mrecord\u001b[0m \u001b[0;32min\u001b[0m \u001b[0mrecords\u001b[0m\u001b[0;34m:\u001b[0m\u001b[0;34m\u001b[0m\u001b[0m\n\u001b[0;32m--> 199\u001b[0;31m             \u001b[0mself\u001b[0m\u001b[0;34m.\u001b[0m\u001b[0mwrite_record\u001b[0m\u001b[0;34m(\u001b[0m\u001b[0mrecord\u001b[0m\u001b[0;34m)\u001b[0m\u001b[0;34m\u001b[0m\u001b[0m\n\u001b[0m\u001b[1;32m    200\u001b[0m             \u001b[0mcount\u001b[0m \u001b[0;34m+=\u001b[0m \u001b[0;36m1\u001b[0m\u001b[0;34m\u001b[0m\u001b[0m\n\u001b[1;32m    201\u001b[0m         \u001b[0;31m# Mark as true, even if there where no records\u001b[0m\u001b[0;34m\u001b[0m\u001b[0;34m\u001b[0m\u001b[0m\n",
      "\u001b[0;32m/home/centos/miniconda3/envs/py27/lib/python2.7/site-packages/Bio/SeqIO/FastaIO.pyc\u001b[0m in \u001b[0;36mwrite_record\u001b[0;34m(self, record)\u001b[0m\n\u001b[1;32m    200\u001b[0m         \u001b[0mself\u001b[0m\u001b[0;34m.\u001b[0m\u001b[0mhandle\u001b[0m\u001b[0;34m.\u001b[0m\u001b[0mwrite\u001b[0m\u001b[0;34m(\u001b[0m\u001b[0;34m\">%s\\n\"\u001b[0m \u001b[0;34m%\u001b[0m \u001b[0mtitle\u001b[0m\u001b[0;34m)\u001b[0m\u001b[0;34m\u001b[0m\u001b[0m\n\u001b[1;32m    201\u001b[0m \u001b[0;34m\u001b[0m\u001b[0m\n\u001b[0;32m--> 202\u001b[0;31m         \u001b[0mdata\u001b[0m \u001b[0;34m=\u001b[0m \u001b[0mself\u001b[0m\u001b[0;34m.\u001b[0m\u001b[0m_get_seq_string\u001b[0m\u001b[0;34m(\u001b[0m\u001b[0mrecord\u001b[0m\u001b[0;34m)\u001b[0m  \u001b[0;31m# Catches sequence being None\u001b[0m\u001b[0;34m\u001b[0m\u001b[0m\n\u001b[0m\u001b[1;32m    203\u001b[0m \u001b[0;34m\u001b[0m\u001b[0m\n\u001b[1;32m    204\u001b[0m         \u001b[0;32massert\u001b[0m \u001b[0;34m\"\\n\"\u001b[0m \u001b[0;32mnot\u001b[0m \u001b[0;32min\u001b[0m \u001b[0mdata\u001b[0m\u001b[0;34m\u001b[0m\u001b[0m\n",
      "\u001b[0;32m/home/centos/miniconda3/envs/py27/lib/python2.7/site-packages/Bio/SeqIO/Interfaces.pyc\u001b[0m in \u001b[0;36m_get_seq_string\u001b[0;34m(self, record)\u001b[0m\n\u001b[1;32m    100\u001b[0m         \u001b[0;32melif\u001b[0m \u001b[0;32mnot\u001b[0m \u001b[0misinstance\u001b[0m\u001b[0;34m(\u001b[0m\u001b[0mrecord\u001b[0m\u001b[0;34m.\u001b[0m\u001b[0mseq\u001b[0m\u001b[0;34m,\u001b[0m \u001b[0;34m(\u001b[0m\u001b[0mSeq\u001b[0m\u001b[0;34m,\u001b[0m \u001b[0mMutableSeq\u001b[0m\u001b[0;34m)\u001b[0m\u001b[0;34m)\u001b[0m\u001b[0;34m:\u001b[0m\u001b[0;34m\u001b[0m\u001b[0m\n\u001b[1;32m    101\u001b[0m             raise TypeError(\"SeqRecord (id=%s) has an invalid sequence.\"\n\u001b[0;32m--> 102\u001b[0;31m                             % record.id)\n\u001b[0m\u001b[1;32m    103\u001b[0m         \u001b[0;32mreturn\u001b[0m \u001b[0mstr\u001b[0m\u001b[0;34m(\u001b[0m\u001b[0mrecord\u001b[0m\u001b[0;34m.\u001b[0m\u001b[0mseq\u001b[0m\u001b[0;34m)\u001b[0m\u001b[0;34m\u001b[0m\u001b[0m\n\u001b[1;32m    104\u001b[0m \u001b[0;34m\u001b[0m\u001b[0m\n",
      "\u001b[0;31mTypeError\u001b[0m: SeqRecord (id=exon_28117) has an invalid sequence."
     ]
    }
   ],
   "source": [
    "run()"
   ]
  },
  {
   "cell_type": "code",
   "execution_count": 58,
   "metadata": {},
   "outputs": [],
   "source": [
    "from Bio import Seq"
   ]
  },
  {
   "cell_type": "code",
   "execution_count": null,
   "metadata": {},
   "outputs": [],
   "source": []
  }
 ],
 "metadata": {
  "kernelspec": {
   "display_name": "Python 2",
   "language": "python",
   "name": "python2"
  },
  "language_info": {
   "codemirror_mode": {
    "name": "ipython",
    "version": 2
   },
   "file_extension": ".py",
   "mimetype": "text/x-python",
   "name": "python",
   "nbconvert_exporter": "python",
   "pygments_lexer": "ipython2",
   "version": "2.7.15"
  }
 },
 "nbformat": 4,
 "nbformat_minor": 2
}
