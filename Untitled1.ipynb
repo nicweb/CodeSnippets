{
 "cells": [
  {
   "cell_type": "code",
   "execution_count": 1,
   "metadata": {},
   "outputs": [],
   "source": [
    "from Bio.Seq import MutableSeq\n",
    "from Bio.Alphabet import IUPAC\n",
    "mutable_seq = MutableSeq(\"GCCATTGTAATGGGCCGCTGAAAGGGTGCCCGA\", IUPAC.unambiguous_dna)"
   ]
  },
  {
   "cell_type": "code",
   "execution_count": 3,
   "metadata": {},
   "outputs": [
    {
     "data": {
      "text/plain": [
       "'C'"
      ]
     },
     "execution_count": 3,
     "metadata": {},
     "output_type": "execute_result"
    }
   ],
   "source": [
    "mutable_seq[1]"
   ]
  },
  {
   "cell_type": "code",
   "execution_count": 29,
   "metadata": {},
   "outputs": [],
   "source": [
    "\n",
    "from pysam import VariantFile"
   ]
  },
  {
   "cell_type": "code",
   "execution_count": null,
   "metadata": {},
   "outputs": [],
   "source": []
  },
  {
   "cell_type": "code",
   "execution_count": 102,
   "metadata": {},
   "outputs": [],
   "source": [
    "infile='/tmp/vcf.vcf.gz'"
   ]
  },
  {
   "cell_type": "code",
   "execution_count": 103,
   "metadata": {},
   "outputs": [],
   "source": [
    "vcfrecords=VariantFile(infile)"
   ]
  },
  {
   "cell_type": "code",
   "execution_count": 98,
   "metadata": {},
   "outputs": [
    {
     "data": {
      "text/plain": [
       "True"
      ]
     },
     "execution_count": 98,
     "metadata": {},
     "output_type": "execute_result"
    }
   ],
   "source": [
    "vcfrecords.is_vcf"
   ]
  },
  {
   "cell_type": "code",
   "execution_count": 111,
   "metadata": {},
   "outputs": [
    {
     "name": "stdout",
     "output_type": "stream",
     "text": [
      "chr1\t42948561\t.\tAG\tA\t.\tfv.not_cod_spli;fv.off_target\tANN=A|intron_variant|MODIFIER|CCDC30|ENSG00000186409|transcript|ENST00000428554|protein_coding|4/22|c.-398+75delG||||||,A|intron_variant|MODIFIER|CCDC30|ENSG00000186409|transcript|ENST00000477155|nonsense_mediated_decay|4/22|c.-1304+75delG||||||,A|intron_variant|MODIFIER|CCDC30|ENSG00000186409|transcript|ENST00000495044|retained_intron|1/5|n.123+75delG||||||,A|non_coding_transcript_exon_variant|MODIFIER|CCDC30|ENSG00000186409|transcript|ENST00000475614|processed_transcript|3/3|n.896delG||||||;IC=0;IHP=13;MQ=59.59;MQ0=0;NT=ref;QSI=54;QSI_NT=54;RC=1;RU=G;SGT=ref->het;SOMATIC;TQSI=2;TQSI_NT=2;rna_tum_freq=0;rna_tum_depth=1;rna_ref_freq=0;rna_ref_depth=20\tBCN50:DP:DP2:DP50:FDP50:SUBDP50:TAR:TIR:TOR\t0.3:97:97:105.43:31.67:0:78,88:0,0:18,8\t0.24:99:99:116.31:28.96:0:53,78:6,6:37,15\n",
      "\n"
     ]
    }
   ],
   "source": [
    "for rec in vcfrecords.fetch('chr1',1,42948565):\n",
    "    if is_del(rec.alleles):\n",
    "        print rec"
   ]
  },
  {
   "cell_type": "code",
   "execution_count": 55,
   "metadata": {},
   "outputs": [
    {
     "data": {
      "text/plain": [
       "'chr1'"
      ]
     },
     "execution_count": 55,
     "metadata": {},
     "output_type": "execute_result"
    }
   ],
   "source": [
    "a.chrom"
   ]
  },
  {
   "cell_type": "code",
   "execution_count": 60,
   "metadata": {},
   "outputs": [
    {
     "name": "stdout",
     "output_type": "stream",
     "text": [
      "chr1\t1119431\t.\tA\tC\t.\tfv.som_all_freq_nor\tANN=C|missense_variant|MODERATE|TTLL10|ENSG00000162571|transcript|ENST00000379289|protein_coding|12/16|c.1220A>C|p.Asp407Ala|1371/2259|1220/2022|407/673||,C|missense_variant|MODERATE|TTLL10|ENSG00000162571|transcript|ENST00000379290|protein_coding|12/16|c.1220A>C|p.Asp407Ala|1393/2283|1220/2022|407/673||,C|missense_variant|MODERATE|TTLL10|ENSG00000162571|transcript|ENST00000379288|protein_coding|8/9|c.1001A>C|p.Asp334Ala|1178/2114|1001/1215|334/404||;dbNSFP_CADD_phred=25.2;dbNSFP_FATHMM_pred=T,T,T;dbNSFP_MetaLR_pred=T;dbNSFP_phyloP100way_vertebrate=6.573;dbNSFP_Polyphen2_HVAR_pred=P,P;dbNSFP_SIFT_pred=D,D,D;DP=607;MQ=59.89;MQ0=0;NT=ref;QSS=57;QSS_NT=57;ReadPosRankSum=-1.28;SGT=AA->AC;SNVSB=0;SOMATIC;SomaticEVS=26.71;TQSS=1;TQSS_NT=1;rna_tum_freq=0;rna_tum_depth=1;rna_ref_freq=.;rna_ref_depth=0\tAU:CU:DP:FDP:GU:SDP:SUBDP:TU\t285,297:6,6:301:9:0,0:0:0:1,1\t272,279:19,19:298:4:0,0:0:0:3,5\n",
      "\n"
     ]
    }
   ],
   "source": [
    "print a"
   ]
  },
  {
   "cell_type": "code",
   "execution_count": 87,
   "metadata": {},
   "outputs": [
    {
     "data": {
      "text/plain": [
       "('A', 'C')"
      ]
     },
     "execution_count": 87,
     "metadata": {},
     "output_type": "execute_result"
    }
   ],
   "source": [
    "a.alleles"
   ]
  },
  {
   "cell_type": "code",
   "execution_count": 90,
   "metadata": {},
   "outputs": [
    {
     "data": {
      "text/plain": [
       "tuple"
      ]
     },
     "execution_count": 90,
     "metadata": {},
     "output_type": "execute_result"
    }
   ],
   "source": [
    "type(a.alts)"
   ]
  },
  {
   "cell_type": "code",
   "execution_count": 40,
   "metadata": {},
   "outputs": [],
   "source": [
    "import pysam"
   ]
  },
  {
   "cell_type": "code",
   "execution_count": 42,
   "metadata": {},
   "outputs": [
    {
     "ename": "AttributeError",
     "evalue": "'module' object has no attribute 'tabix'",
     "output_type": "error",
     "traceback": [
      "\u001b[0;31m---------------------------------------------------------------------------\u001b[0m",
      "\u001b[0;31mAttributeError\u001b[0m                            Traceback (most recent call last)",
      "\u001b[0;32m<ipython-input-42-01a04328211d>\u001b[0m in \u001b[0;36m<module>\u001b[0;34m()\u001b[0m\n\u001b[0;32m----> 1\u001b[0;31m \u001b[0mpysam\u001b[0m\u001b[0;34m.\u001b[0m\u001b[0mtabix\u001b[0m\u001b[0;34m(\u001b[0m\u001b[0;34m)\u001b[0m\u001b[0;34m\u001b[0m\u001b[0m\n\u001b[0m",
      "\u001b[0;31mAttributeError\u001b[0m: 'module' object has no attribute 'tabix'"
     ]
    }
   ],
   "source": [
    "pysam.tabix()"
   ]
  },
  {
   "cell_type": "code",
   "execution_count": 77,
   "metadata": {},
   "outputs": [],
   "source": [
    "import vcf"
   ]
  },
  {
   "cell_type": "code",
   "execution_count": 85,
   "metadata": {},
   "outputs": [],
   "source": [
    "vcf_reader = vcf.Reader(open(infile, 'r'))"
   ]
  },
  {
   "cell_type": "code",
   "execution_count": 86,
   "metadata": {},
   "outputs": [
    {
     "ename": "ValueError",
     "evalue": "could not convert string to float: n/a",
     "output_type": "error",
     "traceback": [
      "\u001b[0;31m---------------------------------------------------------------------------\u001b[0m",
      "\u001b[0;31mValueError\u001b[0m                                Traceback (most recent call last)",
      "\u001b[0;32m<ipython-input-86-6d303e23ed4a>\u001b[0m in \u001b[0;36m<module>\u001b[0;34m()\u001b[0m\n\u001b[0;32m----> 1\u001b[0;31m \u001b[0;32mfor\u001b[0m \u001b[0mrec\u001b[0m \u001b[0;32min\u001b[0m \u001b[0mvcf_reader\u001b[0m\u001b[0;34m:\u001b[0m\u001b[0;34m\u001b[0m\u001b[0m\n\u001b[0m\u001b[1;32m      2\u001b[0m     \u001b[0;32mprint\u001b[0m \u001b[0mrec\u001b[0m\u001b[0;34m\u001b[0m\u001b[0m\n",
      "\u001b[0;32m/home/centos/miniconda3/envs/py27/lib/python2.7/site-packages/vcf/parser.py\u001b[0m in \u001b[0;36mnext\u001b[0;34m(self)\u001b[0m\n\u001b[1;32m    570\u001b[0m         \u001b[0;32melse\u001b[0m\u001b[0;34m:\u001b[0m\u001b[0;34m\u001b[0m\u001b[0m\n\u001b[1;32m    571\u001b[0m             \u001b[0mfilt\u001b[0m \u001b[0;34m=\u001b[0m \u001b[0mfilt\u001b[0m\u001b[0;34m.\u001b[0m\u001b[0msplit\u001b[0m\u001b[0;34m(\u001b[0m\u001b[0;34m';'\u001b[0m\u001b[0;34m)\u001b[0m\u001b[0;34m\u001b[0m\u001b[0m\n\u001b[0;32m--> 572\u001b[0;31m         \u001b[0minfo\u001b[0m \u001b[0;34m=\u001b[0m \u001b[0mself\u001b[0m\u001b[0;34m.\u001b[0m\u001b[0m_parse_info\u001b[0m\u001b[0;34m(\u001b[0m\u001b[0mrow\u001b[0m\u001b[0;34m[\u001b[0m\u001b[0;36m7\u001b[0m\u001b[0;34m]\u001b[0m\u001b[0;34m)\u001b[0m\u001b[0;34m\u001b[0m\u001b[0m\n\u001b[0m\u001b[1;32m    573\u001b[0m \u001b[0;34m\u001b[0m\u001b[0m\n\u001b[1;32m    574\u001b[0m         \u001b[0;32mtry\u001b[0m\u001b[0;34m:\u001b[0m\u001b[0;34m\u001b[0m\u001b[0m\n",
      "\u001b[0;32m/home/centos/miniconda3/envs/py27/lib/python2.7/site-packages/vcf/parser.py\u001b[0m in \u001b[0;36m_parse_info\u001b[0;34m(self, info_str)\u001b[0m\n\u001b[1;32m    395\u001b[0m             \u001b[0;32melif\u001b[0m \u001b[0mentry_type\u001b[0m \u001b[0;34m==\u001b[0m \u001b[0;34m'Float'\u001b[0m\u001b[0;34m:\u001b[0m\u001b[0;34m\u001b[0m\u001b[0m\n\u001b[1;32m    396\u001b[0m                 \u001b[0mvals\u001b[0m \u001b[0;34m=\u001b[0m \u001b[0mentry\u001b[0m\u001b[0;34m[\u001b[0m\u001b[0;36m1\u001b[0m\u001b[0;34m]\u001b[0m\u001b[0;34m.\u001b[0m\u001b[0msplit\u001b[0m\u001b[0;34m(\u001b[0m\u001b[0;34m','\u001b[0m\u001b[0;34m)\u001b[0m\u001b[0;34m\u001b[0m\u001b[0m\n\u001b[0;32m--> 397\u001b[0;31m                 \u001b[0mval\u001b[0m \u001b[0;34m=\u001b[0m \u001b[0mself\u001b[0m\u001b[0;34m.\u001b[0m\u001b[0m_map\u001b[0m\u001b[0;34m(\u001b[0m\u001b[0mfloat\u001b[0m\u001b[0;34m,\u001b[0m \u001b[0mvals\u001b[0m\u001b[0;34m)\u001b[0m\u001b[0;34m\u001b[0m\u001b[0m\n\u001b[0m\u001b[1;32m    398\u001b[0m             \u001b[0;32melif\u001b[0m \u001b[0mentry_type\u001b[0m \u001b[0;34m==\u001b[0m \u001b[0;34m'Flag'\u001b[0m\u001b[0;34m:\u001b[0m\u001b[0;34m\u001b[0m\u001b[0m\n\u001b[1;32m    399\u001b[0m                 \u001b[0mval\u001b[0m \u001b[0;34m=\u001b[0m \u001b[0mTrue\u001b[0m\u001b[0;34m\u001b[0m\u001b[0m\n",
      "\u001b[0;32m/home/centos/miniconda3/envs/py27/lib/python2.7/site-packages/vcf/parser.py\u001b[0m in \u001b[0;36m_map\u001b[0;34m(self, func, iterable, bad)\u001b[0m\n\u001b[1;32m    358\u001b[0m         \u001b[0;34m'''``map``, but make bad values None.'''\u001b[0m\u001b[0;34m\u001b[0m\u001b[0m\n\u001b[1;32m    359\u001b[0m         return [func(x) if x != bad else None\n\u001b[0;32m--> 360\u001b[0;31m                 for x in iterable]\n\u001b[0m\u001b[1;32m    361\u001b[0m \u001b[0;34m\u001b[0m\u001b[0m\n\u001b[1;32m    362\u001b[0m     \u001b[0;32mdef\u001b[0m \u001b[0m_parse_info\u001b[0m\u001b[0;34m(\u001b[0m\u001b[0mself\u001b[0m\u001b[0;34m,\u001b[0m \u001b[0minfo_str\u001b[0m\u001b[0;34m)\u001b[0m\u001b[0;34m:\u001b[0m\u001b[0;34m\u001b[0m\u001b[0m\n",
      "\u001b[0;31mValueError\u001b[0m: could not convert string to float: n/a"
     ]
    }
   ],
   "source": [
    "for rec in vcf_reader:\n",
    "    print rec"
   ]
  },
  {
   "cell_type": "code",
   "execution_count": 105,
   "metadata": {},
   "outputs": [],
   "source": [
    "def is_snp(e):\n",
    "    if len(e[0]) == 1 and len(e[1]) == 1:\n",
    "        return True\n",
    "    return False\n",
    "\n",
    "def is_insert(e):\n",
    "    if len(e[0])<len(e[1]):\n",
    "        return True\n",
    "    return False\n",
    "\n",
    "def is_del(e):\n",
    "    if len(e[0])>len(e[1]):\n",
    "        return True\n",
    "    return False"
   ]
  },
  {
   "cell_type": "code",
   "execution_count": 92,
   "metadata": {},
   "outputs": [
    {
     "data": {
      "text/plain": [
       "True"
      ]
     },
     "execution_count": 92,
     "metadata": {},
     "output_type": "execute_result"
    }
   ],
   "source": [
    "is_indel(a.alleles)"
   ]
  },
  {
   "cell_type": "code",
   "execution_count": null,
   "metadata": {},
   "outputs": [],
   "source": []
  }
 ],
 "metadata": {
  "kernelspec": {
   "display_name": "Python 2",
   "language": "python",
   "name": "python2"
  },
  "language_info": {
   "codemirror_mode": {
    "name": "ipython",
    "version": 2
   },
   "file_extension": ".py",
   "mimetype": "text/x-python",
   "name": "python",
   "nbconvert_exporter": "python",
   "pygments_lexer": "ipython2",
   "version": "2.7.15"
  }
 },
 "nbformat": 4,
 "nbformat_minor": 2
}
