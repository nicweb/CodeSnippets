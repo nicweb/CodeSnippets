{
 "cells": [
  {
   "cell_type": "code",
   "execution_count": 1,
   "metadata": {},
   "outputs": [],
   "source": [
    "from Bio.Seq import MutableSeq\n",
    "from Bio.Alphabet import IUPAC\n",
    "mutable_seq = MutableSeq(\"GCCATTGTAATGGGCCGCTGAAAGGGTGCCCGA\", IUPAC.unambiguous_dna)"
   ]
  },
  {
   "cell_type": "code",
   "execution_count": 3,
   "metadata": {},
   "outputs": [
    {
     "data": {
      "text/plain": [
       "'C'"
      ]
     },
     "execution_count": 3,
     "metadata": {},
     "output_type": "execute_result"
    }
   ],
   "source": [
    "mutable_seq[1]"
   ]
  },
  {
   "cell_type": "code",
   "execution_count": 29,
   "metadata": {},
   "outputs": [],
   "source": [
    "\n",
    "from pysam import VariantFile"
   ]
  },
  {
   "cell_type": "code",
   "execution_count": null,
   "metadata": {},
   "outputs": [],
   "source": []
  },
  {
   "cell_type": "code",
   "execution_count": 46,
   "metadata": {},
   "outputs": [],
   "source": [
    "infile='/tmp/vcf.vcf.gz'"
   ]
  },
  {
   "cell_type": "code",
   "execution_count": 47,
   "metadata": {},
   "outputs": [],
   "source": [
    "vcfrecords=VariantFile(infile)"
   ]
  },
  {
   "cell_type": "code",
   "execution_count": 48,
   "metadata": {},
   "outputs": [
    {
     "data": {
      "text/plain": [
       "True"
      ]
     },
     "execution_count": 48,
     "metadata": {},
     "output_type": "execute_result"
    }
   ],
   "source": [
    "vcfrecords.is_vcf"
   ]
  },
  {
   "cell_type": "code",
   "execution_count": 54,
   "metadata": {},
   "outputs": [],
   "source": [
    "for rec in vcfrecords.fetch('chr1',1,2000000):\n",
    "    a=rec"
   ]
  },
  {
   "cell_type": "code",
   "execution_count": 55,
   "metadata": {},
   "outputs": [
    {
     "data": {
      "text/plain": [
       "'chr1'"
      ]
     },
     "execution_count": 55,
     "metadata": {},
     "output_type": "execute_result"
    }
   ],
   "source": [
    "a.chrom"
   ]
  },
  {
   "cell_type": "code",
   "execution_count": 60,
   "metadata": {},
   "outputs": [
    {
     "name": "stdout",
     "output_type": "stream",
     "text": [
      "chr1\t1119431\t.\tA\tC\t.\tfv.som_all_freq_nor\tANN=C|missense_variant|MODERATE|TTLL10|ENSG00000162571|transcript|ENST00000379289|protein_coding|12/16|c.1220A>C|p.Asp407Ala|1371/2259|1220/2022|407/673||,C|missense_variant|MODERATE|TTLL10|ENSG00000162571|transcript|ENST00000379290|protein_coding|12/16|c.1220A>C|p.Asp407Ala|1393/2283|1220/2022|407/673||,C|missense_variant|MODERATE|TTLL10|ENSG00000162571|transcript|ENST00000379288|protein_coding|8/9|c.1001A>C|p.Asp334Ala|1178/2114|1001/1215|334/404||;dbNSFP_CADD_phred=25.2;dbNSFP_FATHMM_pred=T,T,T;dbNSFP_MetaLR_pred=T;dbNSFP_phyloP100way_vertebrate=6.573;dbNSFP_Polyphen2_HVAR_pred=P,P;dbNSFP_SIFT_pred=D,D,D;DP=607;MQ=59.89;MQ0=0;NT=ref;QSS=57;QSS_NT=57;ReadPosRankSum=-1.28;SGT=AA->AC;SNVSB=0;SOMATIC;SomaticEVS=26.71;TQSS=1;TQSS_NT=1;rna_tum_freq=0;rna_tum_depth=1;rna_ref_freq=.;rna_ref_depth=0\tAU:CU:DP:FDP:GU:SDP:SUBDP:TU\t285,297:6,6:301:9:0,0:0:0:1,1\t272,279:19,19:298:4:0,0:0:0:3,5\n",
      "\n"
     ]
    }
   ],
   "source": [
    "print a"
   ]
  },
  {
   "cell_type": "code",
   "execution_count": 65,
   "metadata": {},
   "outputs": [
    {
     "data": {
      "text/plain": [
       "('A', 'C')"
      ]
     },
     "execution_count": 65,
     "metadata": {},
     "output_type": "execute_result"
    }
   ],
   "source": [
    "a.alleles"
   ]
  },
  {
   "cell_type": "code",
   "execution_count": 76,
   "metadata": {},
   "outputs": [
    {
     "name": "stdout",
     "output_type": "stream",
     "text": [
      "['fv.som_all_freq_nor']\n"
     ]
    }
   ],
   "source": [
    "print a.filter.keys()"
   ]
  },
  {
   "cell_type": "code",
   "execution_count": 40,
   "metadata": {},
   "outputs": [],
   "source": [
    "import pysam"
   ]
  },
  {
   "cell_type": "code",
   "execution_count": 42,
   "metadata": {},
   "outputs": [
    {
     "ename": "AttributeError",
     "evalue": "'module' object has no attribute 'tabix'",
     "output_type": "error",
     "traceback": [
      "\u001b[0;31m---------------------------------------------------------------------------\u001b[0m",
      "\u001b[0;31mAttributeError\u001b[0m                            Traceback (most recent call last)",
      "\u001b[0;32m<ipython-input-42-01a04328211d>\u001b[0m in \u001b[0;36m<module>\u001b[0;34m()\u001b[0m\n\u001b[0;32m----> 1\u001b[0;31m \u001b[0mpysam\u001b[0m\u001b[0;34m.\u001b[0m\u001b[0mtabix\u001b[0m\u001b[0;34m(\u001b[0m\u001b[0;34m)\u001b[0m\u001b[0;34m\u001b[0m\u001b[0m\n\u001b[0m",
      "\u001b[0;31mAttributeError\u001b[0m: 'module' object has no attribute 'tabix'"
     ]
    }
   ],
   "source": [
    "pysam.tabix()"
   ]
  },
  {
   "cell_type": "code",
   "execution_count": null,
   "metadata": {},
   "outputs": [],
   "source": []
  }
 ],
 "metadata": {
  "kernelspec": {
   "display_name": "Python 2",
   "language": "python",
   "name": "python2"
  },
  "language_info": {
   "codemirror_mode": {
    "name": "ipython",
    "version": 2
   },
   "file_extension": ".py",
   "mimetype": "text/x-python",
   "name": "python",
   "nbconvert_exporter": "python",
   "pygments_lexer": "ipython2",
   "version": "2.7.15"
  }
 },
 "nbformat": 4,
 "nbformat_minor": 2
}
