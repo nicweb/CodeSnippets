{
 "cells": [
  {
   "cell_type": "code",
   "execution_count": 125,
   "metadata": {},
   "outputs": [],
   "source": [
    "from BCBio import GFF\n",
    "import operator\n",
    "from Bio.SeqRecord import SeqRecord\n",
    "import glob, os\n",
    "from Bio import SeqIO\n",
    "import time"
   ]
  },
  {
   "cell_type": "code",
   "execution_count": 137,
   "metadata": {},
   "outputs": [],
   "source": [
    "sourcebase= '/mnt/test_data/hepavac34/rna_benign/spladdrout'\n",
    "#sourcebase = '/tmp/'\n",
    "reffile = '/mnt/test_data/refs/GRCh37.primary_assembly.genome.fa'\n",
    "fileending = 'gff3'"
   ]
  },
  {
   "cell_type": "code",
   "execution_count": 136,
   "metadata": {},
   "outputs": [],
   "source": [
    "#Getting all gff-files in base directory\n",
    "def get_gff_files(sourcebase):\n",
    "    print \"Checking for GFF Files in directory...\"\n",
    "    gfffiles = []\n",
    "    os.chdir(sourcebase)\n",
    "    for file in glob.glob(\"*.%s\" %fileending):\n",
    "        gfffiles.append(file)\n",
    "    print \"Found %i file(s) in %s ending with %s.\" %(len(gfffiles), sourcebase, fileending)\n",
    "    return gfffiles"
   ]
  },
  {
   "cell_type": "code",
   "execution_count": 128,
   "metadata": {},
   "outputs": [],
   "source": [
    "#ref_recs = ''\n",
    "def load_reffile(reffile):\n",
    "    print \"Loading %s into memory\" %reffile\n",
    "    t0=time.clock()\n",
    "    with open(reffile) as in_handle:\n",
    "        ref_recs = SeqIO.to_dict(SeqIO.parse(in_handle, \"fasta\"))\n",
    "    return ref_recs\n",
    "    t1=time.clock()\n",
    "    total_ref_bases=0\n",
    "    for key in ref_recs:\n",
    "        total_ref_bases+=len(ref_recs[key])\n",
    "    print \"Loaded %i sequences with %i bases in %i seconds\" %(len(ref_recs),total_ref_bases,t1-t0)"
   ]
  },
  {
   "cell_type": "code",
   "execution_count": 129,
   "metadata": {},
   "outputs": [],
   "source": [
    "def get_gffrecords(in_handle, ref_recs):\n",
    "    \"\"\"Parse Glimmer output, generating SeqRecord and SeqFeatures for predictions\n",
    "    \"\"\"\n",
    "    for rec in GFF.parse(in_handle, target_lines=1000, base_dict=ref_recs):\n",
    "        yield rec\n"
   ]
  },
  {
   "cell_type": "code",
   "execution_count": 130,
   "metadata": {},
   "outputs": [],
   "source": [
    "def get_records(infile,ref_recs):\n",
    "    records = []\n",
    "    records_until_stop = []\n",
    "    gffrecords = get_gffrecords(infile, ref_recs)\n",
    "    for rec in gffrecords:\n",
    "        for feature in rec.features:\n",
    "                    seq_exons = []\n",
    "                    for cds in feature.sub_features:\n",
    "                        seq_exons.append(rec.seq[\n",
    "                            cds.location.nofuzzy_start:\n",
    "                            cds.location.nofuzzy_end])\n",
    "                    gene_seq = reduce(operator.add, seq_exons)\n",
    "                    if feature.strand == -1:\n",
    "                        gene_seq = gene_seq.reverse_complement()\n",
    "                    protein_seq = gene_seq.translate()\n",
    "                    protein_stopseq = gene_seq.translate(to_stop=True)\n",
    "                    records.append(SeqRecord(protein_seq, feature.qualifiers[\"ID\"][0], \"\", \"\"))\n",
    "                    records_until_stop.append(SeqRecord(protein_stopseq, feature.qualifiers[\"ID\"][0], \"\", \"\"))\n",
    "    return records, records_until_stop"
   ]
  },
  {
   "cell_type": "code",
   "execution_count": 131,
   "metadata": {},
   "outputs": [],
   "source": [
    "def write_records(records,records_until_stop,basename):\n",
    "    print \"Writing records to files...\"\n",
    "    outfile = '/tmp/predicted_proteins-%s.fa' %basename\n",
    "    outfile2 = '/tmp/predicted_proteins_until_stop-%s.fa' %basename   \n",
    "    #for r in [records,records_until_stop]\n",
    "    with open(outfile, \"w\") as out_handle:\n",
    "        print(\"Wrote %i sequences\" %SeqIO.write(records, out_handle, \"fasta\"))\n",
    "    with open(outfile2, \"w\") as out_handle:\n",
    "        SeqIO.write(records_until_stop, out_handle, \"fasta\")\n"
   ]
  },
  {
   "cell_type": "code",
   "execution_count": 132,
   "metadata": {},
   "outputs": [],
   "source": [
    "def run():\n",
    "    gfffiles = get_gff_files(sourcebase)\n",
    "    ref_recs = load_reffile(reffile)\n",
    "    for infile in gfffiles:\n",
    "        records, records_until_stop = get_records(infile,ref_recs)\n",
    "        write_records(records,records_until_stop,os.path.basename(infile))\n",
    "        "
   ]
  },
  {
   "cell_type": "code",
   "execution_count": 138,
   "metadata": {},
   "outputs": [
    {
     "name": "stdout",
     "output_type": "stream",
     "text": [
      "Checking for GFF Files in directory...\n",
      "Found 5 file(s) in /mnt/test_data/hepavac34/rna_benign/spladdrout ending with gff3.\n",
      "Loading /mnt/test_data/refs/GRCh37.primary_assembly.genome.fa into memory\n"
     ]
    },
    {
     "name": "stderr",
     "output_type": "stream",
     "text": [
      "/home/centos/miniconda3/envs/py27/lib/python2.7/site-packages/Bio/Seq.py:2309: BiopythonWarning: Partial codon, len(sequence) not a multiple of three. Explicitly trim the sequence or add trailing N before translation. This may become an error in future.\n",
      "  BiopythonWarning)\n"
     ]
    },
    {
     "name": "stdout",
     "output_type": "stream",
     "text": [
      "Writing records to files...\n",
      "Wrote 5183 sequences\n",
      "Writing records to files...\n",
      "Wrote 4847 sequences\n",
      "Writing records to files...\n",
      "Wrote 7030 sequences\n",
      "Writing records to files...\n",
      "Wrote 9779 sequences\n",
      "Writing records to files...\n",
      "Wrote 1777 sequences\n"
     ]
    }
   ],
   "source": [
    "run()"
   ]
  },
  {
   "cell_type": "code",
   "execution_count": 121,
   "metadata": {},
   "outputs": [
    {
     "data": {
      "text/plain": [
       "'ensg228794.gff'"
      ]
     },
     "execution_count": 121,
     "metadata": {},
     "output_type": "execute_result"
    }
   ],
   "source": [
    "os.path.basename(infile)"
   ]
  },
  {
   "cell_type": "code",
   "execution_count": null,
   "metadata": {},
   "outputs": [],
   "source": []
  }
 ],
 "metadata": {
  "kernelspec": {
   "display_name": "Python 2",
   "language": "python",
   "name": "python2"
  },
  "language_info": {
   "codemirror_mode": {
    "name": "ipython",
    "version": 2
   },
   "file_extension": ".py",
   "mimetype": "text/x-python",
   "name": "python",
   "nbconvert_exporter": "python",
   "pygments_lexer": "ipython2",
   "version": "2.7.15"
  }
 },
 "nbformat": 4,
 "nbformat_minor": 2
}
